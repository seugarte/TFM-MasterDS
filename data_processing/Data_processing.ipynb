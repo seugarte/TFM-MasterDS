{
 "cells": [
  {
   "cell_type": "code",
   "execution_count": 1,
   "metadata": {},
   "outputs": [],
   "source": [
    "import pandas as pd \n",
    "import numpy as np\n",
    "import matplotlib.pyplot as plt\n",
    "\n",
    "%matplotlib inline"
   ]
  },
  {
   "cell_type": "markdown",
   "metadata": {},
   "source": [
    "# Data Analysis"
   ]
  },
  {
   "cell_type": "markdown",
   "metadata": {},
   "source": [
    "Firstly, we have to load the csv files that we created before."
   ]
  },
  {
   "cell_type": "code",
   "execution_count": 2,
   "metadata": {},
   "outputs": [],
   "source": [
    "cars_df = pd.read_csv(\"../data/cars_data.csv\", sep=\";\")"
   ]
  },
  {
   "cell_type": "markdown",
   "metadata": {},
   "source": [
    "Now, we can see what is their shape and then, showing a few rows in order to watch the appearance of each dataframe."
   ]
  },
  {
   "cell_type": "code",
   "execution_count": 3,
   "metadata": {},
   "outputs": [
    {
     "data": {
      "text/plain": [
       "(103600, 36)"
      ]
     },
     "execution_count": 3,
     "metadata": {},
     "output_type": "execute_result"
    }
   ],
   "source": [
    "np.shape(cars_df)"
   ]
  },
  {
   "cell_type": "code",
   "execution_count": 4,
   "metadata": {},
   "outputs": [
    {
     "data": {
      "text/html": [
       "<div>\n",
       "<style scoped>\n",
       "    .dataframe tbody tr th:only-of-type {\n",
       "        vertical-align: middle;\n",
       "    }\n",
       "\n",
       "    .dataframe tbody tr th {\n",
       "        vertical-align: top;\n",
       "    }\n",
       "\n",
       "    .dataframe thead th {\n",
       "        text-align: right;\n",
       "    }\n",
       "</style>\n",
       "<table border=\"1\" class=\"dataframe\">\n",
       "  <thead>\n",
       "    <tr style=\"text-align: right;\">\n",
       "      <th></th>\n",
       "      <th>Title</th>\n",
       "      <th>Brand</th>\n",
       "      <th>City</th>\n",
       "      <th>Price</th>\n",
       "      <th>Year</th>\n",
       "      <th>Kms</th>\n",
       "      <th>Fuel</th>\n",
       "      <th>Type of Gears</th>\n",
       "      <th>Seller</th>\n",
       "      <th>Guarantee</th>\n",
       "      <th>...</th>\n",
       "      <th>Autonomy</th>\n",
       "      <th>CO2 Emissions</th>\n",
       "      <th>Output</th>\n",
       "      <th>Cubic Capacity</th>\n",
       "      <th>Cylinders</th>\n",
       "      <th>Max Par</th>\n",
       "      <th>Gears</th>\n",
       "      <th>Transmission</th>\n",
       "      <th>Traction</th>\n",
       "      <th>Url</th>\n",
       "    </tr>\n",
       "  </thead>\n",
       "  <tbody>\n",
       "    <tr>\n",
       "      <th>0</th>\n",
       "      <td>Citroen Jumper 2.2hdi Cl 33 L2h2 150</td>\n",
       "      <td>Citroen</td>\n",
       "      <td>Barcelona</td>\n",
       "      <td>11.529€</td>\n",
       "      <td>07/2014</td>\n",
       "      <td>105.000 km</td>\n",
       "      <td>Diesel</td>\n",
       "      <td>Manual</td>\n",
       "      <td>Profesional</td>\n",
       "      <td>Sí</td>\n",
       "      <td>...</td>\n",
       "      <td>0.0</td>\n",
       "      <td>199 gr/m3</td>\n",
       "      <td>150 cv</td>\n",
       "      <td>2.198 cm3</td>\n",
       "      <td>4 en línea</td>\n",
       "      <td>350 Nm</td>\n",
       "      <td>6</td>\n",
       "      <td>Manual</td>\n",
       "      <td>Delantera</td>\n",
       "      <td>https://www.coches.com/coches-segunda-mano/oca...</td>\n",
       "    </tr>\n",
       "    <tr>\n",
       "      <th>1</th>\n",
       "      <td>Volkswagen Passat 2.0tdi Highline Bmt</td>\n",
       "      <td>Volkswagen</td>\n",
       "      <td>Madrid</td>\n",
       "      <td>11.900€</td>\n",
       "      <td>2014</td>\n",
       "      <td>144.000 km</td>\n",
       "      <td>Diesel</td>\n",
       "      <td>Manual</td>\n",
       "      <td>Profesional</td>\n",
       "      <td>Sí</td>\n",
       "      <td>...</td>\n",
       "      <td>0.0</td>\n",
       "      <td>119 gr/m3</td>\n",
       "      <td>140 cv</td>\n",
       "      <td>1.968 cm3</td>\n",
       "      <td>4 en línea</td>\n",
       "      <td>320 Nm</td>\n",
       "      <td>6</td>\n",
       "      <td>Manual</td>\n",
       "      <td>Delantera</td>\n",
       "      <td>https://www.coches.com/coches-segunda-mano/oca...</td>\n",
       "    </tr>\n",
       "    <tr>\n",
       "      <th>2</th>\n",
       "      <td>Mercedes Clase Clk Clk 200 K</td>\n",
       "      <td>Mercedes</td>\n",
       "      <td>Madrid</td>\n",
       "      <td>5.400€</td>\n",
       "      <td>2004</td>\n",
       "      <td>160.000 km</td>\n",
       "      <td>Gasolina</td>\n",
       "      <td>Manual</td>\n",
       "      <td>Profesional</td>\n",
       "      <td>Sí</td>\n",
       "      <td>...</td>\n",
       "      <td>0.0</td>\n",
       "      <td>0 gr/m3</td>\n",
       "      <td>163 cv</td>\n",
       "      <td>1.796 cm3</td>\n",
       "      <td>4 en línea</td>\n",
       "      <td>240 Nm</td>\n",
       "      <td>6</td>\n",
       "      <td>Manual</td>\n",
       "      <td>Trasera</td>\n",
       "      <td>https://www.coches.com/coches-segunda-mano/oca...</td>\n",
       "    </tr>\n",
       "    <tr>\n",
       "      <th>3</th>\n",
       "      <td>Seat León 2.0tdi Cr S&amp;s Fr 150</td>\n",
       "      <td>Seat</td>\n",
       "      <td>Madrid</td>\n",
       "      <td>15.390€</td>\n",
       "      <td>2016</td>\n",
       "      <td>19.090 km</td>\n",
       "      <td>Diesel</td>\n",
       "      <td>Manual</td>\n",
       "      <td>Profesional</td>\n",
       "      <td>No</td>\n",
       "      <td>...</td>\n",
       "      <td>0.0</td>\n",
       "      <td>112 gr/m3</td>\n",
       "      <td>150 cv</td>\n",
       "      <td>1.968 cm3</td>\n",
       "      <td>4 en línea</td>\n",
       "      <td>340 Nm</td>\n",
       "      <td>6</td>\n",
       "      <td>Manual</td>\n",
       "      <td>Delantera</td>\n",
       "      <td>https://www.coches.com/coches-segunda-mano/oca...</td>\n",
       "    </tr>\n",
       "    <tr>\n",
       "      <th>4</th>\n",
       "      <td>Opel Zafira Tourer 2.0cdti Selective 130</td>\n",
       "      <td>Opel</td>\n",
       "      <td>Malaga</td>\n",
       "      <td>11.500€</td>\n",
       "      <td>2015</td>\n",
       "      <td>90.000 km</td>\n",
       "      <td>Diesel</td>\n",
       "      <td>Manual</td>\n",
       "      <td>Profesional</td>\n",
       "      <td>Sí</td>\n",
       "      <td>...</td>\n",
       "      <td>0.0</td>\n",
       "      <td>134 gr/m3</td>\n",
       "      <td>130 cv</td>\n",
       "      <td>1.956 cm3</td>\n",
       "      <td>4 en línea</td>\n",
       "      <td>300 Nm</td>\n",
       "      <td>6</td>\n",
       "      <td>Manual</td>\n",
       "      <td>Delantera</td>\n",
       "      <td>https://www.coches.com/coches-segunda-mano/oca...</td>\n",
       "    </tr>\n",
       "  </tbody>\n",
       "</table>\n",
       "<p>5 rows × 36 columns</p>\n",
       "</div>"
      ],
      "text/plain": [
       "                                      Title       Brand        City    Price  \\\n",
       "0      Citroen Jumper 2.2hdi Cl 33 L2h2 150     Citroen  Barcelona   11.529€   \n",
       "1     Volkswagen Passat 2.0tdi Highline Bmt  Volkswagen     Madrid   11.900€   \n",
       "2              Mercedes Clase Clk Clk 200 K    Mercedes     Madrid    5.400€   \n",
       "3            Seat León 2.0tdi Cr S&s Fr 150        Seat     Madrid   15.390€   \n",
       "4  Opel Zafira Tourer 2.0cdti Selective 130        Opel     Malaga   11.500€   \n",
       "\n",
       "      Year         Kms      Fuel Type of Gears       Seller Guarantee  \\\n",
       "0  07/2014  105.000 km    Diesel        Manual  Profesional        Sí   \n",
       "1     2014  144.000 km    Diesel        Manual  Profesional        Sí   \n",
       "2     2004  160.000 km  Gasolina        Manual  Profesional        Sí   \n",
       "3     2016   19.090 km    Diesel        Manual  Profesional        No   \n",
       "4     2015   90.000 km    Diesel        Manual  Profesional        Sí   \n",
       "\n",
       "                         ...                         Autonomy CO2 Emissions  \\\n",
       "0                        ...                              0.0     199 gr/m3   \n",
       "1                        ...                              0.0     119 gr/m3   \n",
       "2                        ...                              0.0       0 gr/m3   \n",
       "3                        ...                              0.0     112 gr/m3   \n",
       "4                        ...                              0.0     134 gr/m3   \n",
       "\n",
       "   Output Cubic Capacity   Cylinders  Max Par  Gears Transmission   Traction  \\\n",
       "0  150 cv      2.198 cm3  4 en línea   350 Nm      6       Manual  Delantera   \n",
       "1  140 cv      1.968 cm3  4 en línea   320 Nm      6       Manual  Delantera   \n",
       "2  163 cv      1.796 cm3  4 en línea   240 Nm      6       Manual    Trasera   \n",
       "3  150 cv      1.968 cm3  4 en línea   340 Nm      6       Manual  Delantera   \n",
       "4  130 cv      1.956 cm3  4 en línea   300 Nm      6       Manual  Delantera   \n",
       "\n",
       "                                                 Url  \n",
       "0  https://www.coches.com/coches-segunda-mano/oca...  \n",
       "1  https://www.coches.com/coches-segunda-mano/oca...  \n",
       "2  https://www.coches.com/coches-segunda-mano/oca...  \n",
       "3  https://www.coches.com/coches-segunda-mano/oca...  \n",
       "4  https://www.coches.com/coches-segunda-mano/oca...  \n",
       "\n",
       "[5 rows x 36 columns]"
      ]
     },
     "execution_count": 4,
     "metadata": {},
     "output_type": "execute_result"
    }
   ],
   "source": [
    "cars_df.head()"
   ]
  },
  {
   "cell_type": "markdown",
   "metadata": {},
   "source": [
    "The next step is cleaning the dataset and changing the types of each column."
   ]
  },
  {
   "cell_type": "markdown",
   "metadata": {},
   "source": [
    "# Data cleaning and transformation"
   ]
  },
  {
   "cell_type": "markdown",
   "metadata": {},
   "source": [
    "The first step is looking for NA's."
   ]
  },
  {
   "cell_type": "code",
   "execution_count": 5,
   "metadata": {},
   "outputs": [
    {
     "data": {
      "text/plain": [
       "Index(['Title', 'Brand', 'City', 'Price', 'Year', 'Kms', 'Fuel',\n",
       "       'Type of Gears', 'Seller', 'Guarantee', 'Colour', 'Boot Capacity',\n",
       "       'Length', 'Height', 'Width', 'Doors', 'Vacancies', 'Tank', 'Weight',\n",
       "       'Max Weight', 'Car Body', 'Max Speed', 'Comb Fuel', 'Urban Use',\n",
       "       'Extraurban Use', 'Aceleration', 'Autonomy', 'CO2 Emissions', 'Output',\n",
       "       'Cubic Capacity', 'Cylinders', 'Max Par', 'Gears', 'Transmission',\n",
       "       'Traction', 'Url'],\n",
       "      dtype='object')"
      ]
     },
     "execution_count": 5,
     "metadata": {},
     "output_type": "execute_result"
    }
   ],
   "source": [
    "cars_df.columns"
   ]
  },
  {
   "cell_type": "code",
   "execution_count": 6,
   "metadata": {},
   "outputs": [
    {
     "data": {
      "text/plain": [
       "Title                 0\n",
       "Brand                 0\n",
       "City                  0\n",
       "Price                 0\n",
       "Year                  0\n",
       "Kms                   0\n",
       "Fuel                  0\n",
       "Type of Gears        11\n",
       "Seller                0\n",
       "Guarantee             0\n",
       "Colour            13661\n",
       "Boot Capacity         0\n",
       "Length                0\n",
       "Height                0\n",
       "Width                 0\n",
       "Doors                 0\n",
       "Vacancies             0\n",
       "Tank                  0\n",
       "Weight                0\n",
       "Max Weight            0\n",
       "Car Body              0\n",
       "Max Speed             0\n",
       "Comb Fuel             0\n",
       "Urban Use             0\n",
       "Extraurban Use        0\n",
       "Aceleration           0\n",
       "Autonomy              2\n",
       "CO2 Emissions         0\n",
       "Output                0\n",
       "Cubic Capacity        0\n",
       "Cylinders             0\n",
       "Max Par               0\n",
       "Gears                 0\n",
       "Transmission         11\n",
       "Traction              0\n",
       "Url                   0\n",
       "dtype: int64"
      ]
     },
     "execution_count": 6,
     "metadata": {},
     "output_type": "execute_result"
    }
   ],
   "source": [
    "cars_df.apply(lambda x: x.isnull().sum())"
   ]
  },
  {
   "cell_type": "markdown",
   "metadata": {},
   "source": [
    "We can see that there are some NaN values in our DataFrame.\n",
    "The next step is deciding what are we going to do with them."
   ]
  },
  {
   "cell_type": "markdown",
   "metadata": {},
   "source": [
    "The colour is not very important for our model, so we drop this column."
   ]
  },
  {
   "cell_type": "code",
   "execution_count": 7,
   "metadata": {},
   "outputs": [],
   "source": [
    "cars_df = cars_df.drop(\"Colour\", axis=1)"
   ]
  },
  {
   "cell_type": "code",
   "execution_count": 8,
   "metadata": {},
   "outputs": [
    {
     "data": {
      "text/plain": [
       "Index(['Title', 'Brand', 'City', 'Price', 'Year', 'Kms', 'Fuel',\n",
       "       'Type of Gears', 'Seller', 'Guarantee', 'Boot Capacity', 'Length',\n",
       "       'Height', 'Width', 'Doors', 'Vacancies', 'Tank', 'Weight', 'Max Weight',\n",
       "       'Car Body', 'Max Speed', 'Comb Fuel', 'Urban Use', 'Extraurban Use',\n",
       "       'Aceleration', 'Autonomy', 'CO2 Emissions', 'Output', 'Cubic Capacity',\n",
       "       'Cylinders', 'Max Par', 'Gears', 'Transmission', 'Traction', 'Url'],\n",
       "      dtype='object')"
      ]
     },
     "execution_count": 8,
     "metadata": {},
     "output_type": "execute_result"
    }
   ],
   "source": [
    "cars_df.columns"
   ]
  },
  {
   "cell_type": "markdown",
   "metadata": {},
   "source": [
    "Now we are going to watch what values contains the 'Autonomy' column."
   ]
  },
  {
   "cell_type": "code",
   "execution_count": 9,
   "metadata": {},
   "outputs": [
    {
     "data": {
      "text/plain": [
       "0    0.0\n",
       "1    0.0\n",
       "2    0.0\n",
       "3    0.0\n",
       "4    0.0\n",
       "5    0.0\n",
       "6    0.0\n",
       "7    0.0\n",
       "8    0.0\n",
       "9    0.0\n",
       "Name: Autonomy, dtype: float64"
      ]
     },
     "execution_count": 9,
     "metadata": {},
     "output_type": "execute_result"
    }
   ],
   "source": [
    "cars_df[\"Autonomy\"].head(10)"
   ]
  },
  {
   "cell_type": "markdown",
   "metadata": {},
   "source": [
    "Because of all the values are equal to zero, we are going to drop this column too."
   ]
  },
  {
   "cell_type": "code",
   "execution_count": 10,
   "metadata": {},
   "outputs": [],
   "source": [
    "cars_df = cars_df.drop(\"Autonomy\", axis=1)"
   ]
  },
  {
   "cell_type": "markdown",
   "metadata": {},
   "source": [
    "The next step is deciding what are we going to do with the rest of NaN's. "
   ]
  },
  {
   "cell_type": "code",
   "execution_count": 11,
   "metadata": {},
   "outputs": [
    {
     "data": {
      "text/plain": [
       "Title              0\n",
       "Brand              0\n",
       "City               0\n",
       "Price              0\n",
       "Year               0\n",
       "Kms                0\n",
       "Fuel               0\n",
       "Type of Gears     11\n",
       "Seller             0\n",
       "Guarantee          0\n",
       "Boot Capacity      0\n",
       "Length             0\n",
       "Height             0\n",
       "Width              0\n",
       "Doors              0\n",
       "Vacancies          0\n",
       "Tank               0\n",
       "Weight             0\n",
       "Max Weight         0\n",
       "Car Body           0\n",
       "Max Speed          0\n",
       "Comb Fuel          0\n",
       "Urban Use          0\n",
       "Extraurban Use     0\n",
       "Aceleration        0\n",
       "CO2 Emissions      0\n",
       "Output             0\n",
       "Cubic Capacity     0\n",
       "Cylinders          0\n",
       "Max Par            0\n",
       "Gears              0\n",
       "Transmission      11\n",
       "Traction           0\n",
       "Url                0\n",
       "dtype: int64"
      ]
     },
     "execution_count": 11,
     "metadata": {},
     "output_type": "execute_result"
    }
   ],
   "source": [
    "cars_df.apply(lambda x: x.isnull().sum())"
   ]
  },
  {
   "cell_type": "markdown",
   "metadata": {},
   "source": [
    "It looks that the two columns which contain NaN's contains the same information. Firstly, we drop one of them and then, what we are going to do is removing the raws which contain the NaN's."
   ]
  },
  {
   "cell_type": "code",
   "execution_count": 12,
   "metadata": {},
   "outputs": [],
   "source": [
    "cars_df = cars_df.drop(\"Type of Gears\", axis=1)"
   ]
  },
  {
   "cell_type": "code",
   "execution_count": 13,
   "metadata": {},
   "outputs": [],
   "source": [
    "array_nans = cars_df[\"Transmission\"].isnull()\n",
    "\n",
    "for i,val in enumerate(array_nans):\n",
    "    if val == True:\n",
    "        cars_df = cars_df.drop(i)"
   ]
  },
  {
   "cell_type": "code",
   "execution_count": 14,
   "metadata": {},
   "outputs": [
    {
     "data": {
      "text/plain": [
       "Title             0\n",
       "Brand             0\n",
       "City              0\n",
       "Price             0\n",
       "Year              0\n",
       "Kms               0\n",
       "Fuel              0\n",
       "Seller            0\n",
       "Guarantee         0\n",
       "Boot Capacity     0\n",
       "Length            0\n",
       "Height            0\n",
       "Width             0\n",
       "Doors             0\n",
       "Vacancies         0\n",
       "Tank              0\n",
       "Weight            0\n",
       "Max Weight        0\n",
       "Car Body          0\n",
       "Max Speed         0\n",
       "Comb Fuel         0\n",
       "Urban Use         0\n",
       "Extraurban Use    0\n",
       "Aceleration       0\n",
       "CO2 Emissions     0\n",
       "Output            0\n",
       "Cubic Capacity    0\n",
       "Cylinders         0\n",
       "Max Par           0\n",
       "Gears             0\n",
       "Transmission      0\n",
       "Traction          0\n",
       "Url               0\n",
       "dtype: int64"
      ]
     },
     "execution_count": 14,
     "metadata": {},
     "output_type": "execute_result"
    }
   ],
   "source": [
    "cars_df.apply(lambda x: x.isnull().sum())"
   ]
  },
  {
   "cell_type": "markdown",
   "metadata": {},
   "source": [
    "We have drop all the NaN's!!"
   ]
  },
  {
   "cell_type": "markdown",
   "metadata": {},
   "source": [
    "Now we are going to find duplicates and then delete them."
   ]
  },
  {
   "cell_type": "code",
   "execution_count": 15,
   "metadata": {},
   "outputs": [
    {
     "name": "stdout",
     "output_type": "stream",
     "text": [
      "There are 20628 duplicated advertisements\n"
     ]
    }
   ],
   "source": [
    "#Counting the number of duplicates\n",
    "cars_df[\"is_duplicated\"] = cars_df.duplicated()\n",
    "number_of_duplicates = 0\n",
    "\n",
    "for var in cars_df[\"is_duplicated\"]:\n",
    "    if var == True:\n",
    "        number_of_duplicates += 1\n",
    "\n",
    "print(\"There are %d duplicated advertisements\" %number_of_duplicates)"
   ]
  },
  {
   "cell_type": "code",
   "execution_count": 16,
   "metadata": {},
   "outputs": [
    {
     "data": {
      "text/plain": [
       "(82961, 33)"
      ]
     },
     "execution_count": 16,
     "metadata": {},
     "output_type": "execute_result"
    }
   ],
   "source": [
    "#Deleting the duplicates and the additional column created before\n",
    "cars_df = cars_df[cars_df[\"is_duplicated\"] == False]\n",
    "cars_df = cars_df.drop(\"is_duplicated\", axis=1)\n",
    "np.shape(cars_df)"
   ]
  },
  {
   "cell_type": "markdown",
   "metadata": {},
   "source": [
    "The next step is changing the types of some columns."
   ]
  },
  {
   "cell_type": "code",
   "execution_count": 17,
   "metadata": {},
   "outputs": [
    {
     "data": {
      "text/plain": [
       "Index(['Title', 'Brand', 'City', 'Price', 'Year', 'Kms', 'Fuel', 'Seller',\n",
       "       'Guarantee', 'Boot Capacity', 'Length', 'Height', 'Width', 'Doors',\n",
       "       'Vacancies', 'Tank', 'Weight', 'Max Weight', 'Car Body', 'Max Speed',\n",
       "       'Comb Fuel', 'Urban Use', 'Extraurban Use', 'Aceleration',\n",
       "       'CO2 Emissions', 'Output', 'Cubic Capacity', 'Cylinders', 'Max Par',\n",
       "       'Gears', 'Transmission', 'Traction', 'Url'],\n",
       "      dtype='object')"
      ]
     },
     "execution_count": 17,
     "metadata": {},
     "output_type": "execute_result"
    }
   ],
   "source": [
    "cars_df.columns"
   ]
  },
  {
   "cell_type": "markdown",
   "metadata": {},
   "source": [
    "We start watching what is the type of each of them."
   ]
  },
  {
   "cell_type": "code",
   "execution_count": 18,
   "metadata": {},
   "outputs": [
    {
     "name": "stdout",
     "output_type": "stream",
     "text": [
      "count                82961\n",
      "unique               18300\n",
      "top       Bmw Serie 1 116d\n",
      "freq                   511\n",
      "Name: Title, dtype: object \n",
      "\n",
      "\n",
      "count     82961\n",
      "unique       71\n",
      "top         Bmw\n",
      "freq       7974\n",
      "Name: Brand, dtype: object \n",
      "\n",
      "\n",
      "count       82961\n",
      "unique         52\n",
      "top       Madrid \n",
      "freq        19646\n",
      "Name: City, dtype: object \n",
      "\n",
      "\n",
      "count      82961\n",
      "unique      4106\n",
      "top       9.900€\n",
      "freq         920\n",
      "Name: Price, dtype: object \n",
      "\n",
      "\n",
      "count       82961\n",
      "unique        478\n",
      "top       01/2017\n",
      "freq         2108\n",
      "Name: Year, dtype: object \n",
      "\n",
      "\n",
      "count     82961\n",
      "unique    24267\n",
      "top        0 km\n",
      "freq       1305\n",
      "Name: Kms, dtype: object \n",
      "\n",
      "\n",
      "count      82961\n",
      "unique         4\n",
      "top       Diesel\n",
      "freq       60392\n",
      "Name: Fuel, dtype: object \n",
      "\n",
      "\n",
      "count           82961\n",
      "unique              2\n",
      "top       Profesional\n",
      "freq            63979\n",
      "Name: Seller, dtype: object \n",
      "\n",
      "\n",
      "count     82961\n",
      "unique        2\n",
      "top          No\n",
      "freq      48592\n",
      "Name: Guarantee, dtype: object \n",
      "\n",
      "\n",
      "count     82961\n",
      "unique      456\n",
      "top         0 l\n",
      "freq      16526\n",
      "Name: Boot Capacity, dtype: object \n",
      "\n",
      "\n",
      "count      82961\n",
      "unique       284\n",
      "top       426 cm\n",
      "freq        2287\n",
      "Name: Length, dtype: object \n",
      "\n",
      "\n",
      "count      82961\n",
      "unique       162\n",
      "top       146 cm\n",
      "freq        6754\n",
      "Name: Height, dtype: object \n",
      "\n",
      "\n",
      "count      82961\n",
      "unique        83\n",
      "top       181 cm\n",
      "freq        7413\n",
      "Name: Width, dtype: object \n",
      "\n",
      "\n",
      "count    82961.000000\n",
      "mean         4.429648\n",
      "std          0.907018\n",
      "min          0.000000\n",
      "25%          4.000000\n",
      "50%          5.000000\n",
      "75%          5.000000\n",
      "max          5.000000\n",
      "Name: Doors, dtype: float64 \n",
      "\n",
      "\n",
      "count    82961.000000\n",
      "mean         4.888948\n",
      "std          0.851398\n",
      "min          1.000000\n",
      "25%          5.000000\n",
      "50%          5.000000\n",
      "75%          5.000000\n",
      "max         16.000000\n",
      "Name: Vacancies, dtype: float64 \n",
      "\n",
      "\n",
      "count     82961\n",
      "unique       78\n",
      "top        50 l\n",
      "freq       9997\n",
      "Name: Tank, dtype: object \n",
      "\n",
      "\n",
      "count        82961\n",
      "unique        1331\n",
      "top       1.365 kg\n",
      "freq          1092\n",
      "Name: Weight, dtype: object \n",
      "\n",
      "\n",
      "count        82961\n",
      "unique        1021\n",
      "top       1.820 kg\n",
      "freq          1154\n",
      "Name: Max Weight, dtype: object \n",
      "\n",
      "\n",
      "count       82961\n",
      "unique         15\n",
      "top       Berlina\n",
      "freq        41582\n",
      "Name: Car Body, dtype: object \n",
      "\n",
      "\n",
      "count      82961\n",
      "unique       204\n",
      "top       0 km/h\n",
      "freq       11396\n",
      "Name: Max Speed, dtype: object \n",
      "\n",
      "\n",
      "count     82961\n",
      "unique      175\n",
      "top       4,5 l\n",
      "freq       4198\n",
      "Name: Comb Fuel, dtype: object \n",
      "\n",
      "\n",
      "count     82961\n",
      "unique      240\n",
      "top       4,6 l\n",
      "freq       2887\n",
      "Name: Urban Use, dtype: object \n",
      "\n",
      "\n",
      "count     82961\n",
      "unique      126\n",
      "top       4,1 l\n",
      "freq       4550\n",
      "Name: Extraurban Use, dtype: object \n",
      "\n",
      "\n",
      "count     82961\n",
      "unique      204\n",
      "top       0,0 s\n",
      "freq       4933\n",
      "Name: Aceleration, dtype: object \n",
      "\n",
      "\n",
      "count       82961\n",
      "unique        322\n",
      "top       0 gr/m3\n",
      "freq        10374\n",
      "Name: CO2 Emissions, dtype: object \n",
      "\n",
      "\n",
      "count      82961\n",
      "unique       364\n",
      "top       150 cv\n",
      "freq        6873\n",
      "Name: Output, dtype: object \n",
      "\n",
      "\n",
      "count         82961\n",
      "unique          554\n",
      "top       1.598 cm3\n",
      "freq           8756\n",
      "Name: Cubic Capacity, dtype: object \n",
      "\n",
      "\n",
      "count          82961\n",
      "unique            19\n",
      "top       4 en línea\n",
      "freq           67136\n",
      "Name: Cylinders, dtype: object \n",
      "\n",
      "\n",
      "count      82961\n",
      "unique       385\n",
      "top       320 Nm\n",
      "freq        8410\n",
      "Name: Max Par, dtype: object \n",
      "\n",
      "\n",
      "count    82961.000000\n",
      "mean         5.815914\n",
      "std          0.943719\n",
      "min          1.000000\n",
      "25%          5.000000\n",
      "50%          6.000000\n",
      "75%          6.000000\n",
      "max         10.000000\n",
      "Name: Gears, dtype: float64 \n",
      "\n",
      "\n",
      "count      82961\n",
      "unique         7\n",
      "top       Manual\n",
      "freq       60670\n",
      "Name: Transmission, dtype: object \n",
      "\n",
      "\n",
      "count         82961\n",
      "unique            7\n",
      "top       Delantera\n",
      "freq          59712\n",
      "Name: Traction, dtype: object \n",
      "\n",
      "\n",
      "count                                                 82961\n",
      "unique                                                82955\n",
      "top       https://www.coches.com/coches-segunda-mano/oca...\n",
      "freq                                                      2\n",
      "Name: Url, dtype: object \n",
      "\n",
      "\n"
     ]
    }
   ],
   "source": [
    "for col in cars_df.columns:\n",
    "    print(cars_df[col].describe(),\"\\n\\n\")"
   ]
  },
  {
   "cell_type": "markdown",
   "metadata": {},
   "source": [
    "Once we have seen the previous information, we have to change the type of some columns and maybe create new columns and drop old columns."
   ]
  },
  {
   "cell_type": "markdown",
   "metadata": {},
   "source": [
    "We start creating a new columns called 'Price (€)' which contains integers, and then removing the old column 'Price'."
   ]
  },
  {
   "cell_type": "code",
   "execution_count": 19,
   "metadata": {},
   "outputs": [
    {
     "data": {
      "text/plain": [
       "0    11529.0\n",
       "1    11900.0\n",
       "2     5400.0\n",
       "3    15390.0\n",
       "4    11500.0\n",
       "Name: Price (€), dtype: float64"
      ]
     },
     "execution_count": 19,
     "metadata": {},
     "output_type": "execute_result"
    }
   ],
   "source": [
    "cars_df[\"Price (€)\"] = cars_df[\"Price\"].apply(lambda x: float(x.split(\"€\")[0].replace(\".\", \"\")))\n",
    "cars_df = cars_df.drop(\"Price\", axis=1)\n",
    "cars_df[\"Price (€)\"].head()"
   ]
  },
  {
   "cell_type": "markdown",
   "metadata": {},
   "source": [
    "Now we must be focused in the next column."
   ]
  },
  {
   "cell_type": "code",
   "execution_count": 20,
   "metadata": {},
   "outputs": [
    {
     "data": {
      "text/plain": [
       "0    07/2014\n",
       "1       2014\n",
       "2       2004\n",
       "3       2016\n",
       "4       2015\n",
       "5       2017\n",
       "6       2018\n",
       "7    05/2014\n",
       "8    03/2012\n",
       "9    06/2016\n",
       "Name: Year, dtype: object"
      ]
     },
     "execution_count": 20,
     "metadata": {},
     "output_type": "execute_result"
    }
   ],
   "source": [
    "cars_df[\"Year\"].head(10)"
   ]
  },
  {
   "cell_type": "markdown",
   "metadata": {},
   "source": [
    "We can see that the format is not the same in the rows."
   ]
  },
  {
   "cell_type": "code",
   "execution_count": 21,
   "metadata": {},
   "outputs": [],
   "source": [
    "cars_df[\"Year\"] = cars_df[\"Year\"].apply(lambda x: x.split(\"/\"))"
   ]
  },
  {
   "cell_type": "code",
   "execution_count": 22,
   "metadata": {},
   "outputs": [],
   "source": [
    "years = []\n",
    "\n",
    "for val in cars_df[\"Year\"]:\n",
    "    if len(val) == 1: \n",
    "        years.append(val[0])\n",
    "    else:\n",
    "        years.append(val[1])"
   ]
  },
  {
   "cell_type": "code",
   "execution_count": 23,
   "metadata": {},
   "outputs": [],
   "source": [
    "cars_df[\"Year\"] = pd.to_numeric(years)"
   ]
  },
  {
   "cell_type": "markdown",
   "metadata": {},
   "source": [
    "Kms column"
   ]
  },
  {
   "cell_type": "code",
   "execution_count": 24,
   "metadata": {},
   "outputs": [
    {
     "data": {
      "text/plain": [
       "0    105.000 km\n",
       "1    144.000 km\n",
       "2    160.000 km\n",
       "3     19.090 km\n",
       "4     90.000 km\n",
       "Name: Kms, dtype: object"
      ]
     },
     "execution_count": 24,
     "metadata": {},
     "output_type": "execute_result"
    }
   ],
   "source": [
    "cars_df[\"Kms\"].head()"
   ]
  },
  {
   "cell_type": "code",
   "execution_count": 25,
   "metadata": {},
   "outputs": [],
   "source": [
    "cars_df[\"Kms\"] = cars_df[\"Kms\"].apply(lambda x: x.split()[0])\n",
    "cars_df[\"Kms\"] = pd.to_numeric(cars_df[\"Kms\"].apply(lambda x: x.replace(\".\", \"\")))"
   ]
  },
  {
   "cell_type": "code",
   "execution_count": 26,
   "metadata": {},
   "outputs": [
    {
     "data": {
      "text/plain": [
       "0    105000\n",
       "1    144000\n",
       "2    160000\n",
       "3     19090\n",
       "4     90000\n",
       "5     55000\n",
       "6        25\n",
       "7     30000\n",
       "8    114950\n",
       "9     23000\n",
       "Name: Kms, dtype: int64"
      ]
     },
     "execution_count": 26,
     "metadata": {},
     "output_type": "execute_result"
    }
   ],
   "source": [
    "cars_df[\"Kms\"].head(10)"
   ]
  },
  {
   "cell_type": "markdown",
   "metadata": {},
   "source": [
    "Boot Capacity column"
   ]
  },
  {
   "cell_type": "code",
   "execution_count": 27,
   "metadata": {},
   "outputs": [
    {
     "data": {
      "text/plain": [
       "0      0 l\n",
       "1    565 l\n",
       "2      0 l\n",
       "3    380 l\n",
       "4    152 l\n",
       "Name: Boot Capacity, dtype: object"
      ]
     },
     "execution_count": 27,
     "metadata": {},
     "output_type": "execute_result"
    }
   ],
   "source": [
    "cars_df[\"Boot Capacity\"].head()"
   ]
  },
  {
   "cell_type": "code",
   "execution_count": 28,
   "metadata": {},
   "outputs": [],
   "source": [
    "cars_df[\"Boot Capacity (l)\"] = pd.to_numeric(cars_df[\"Boot Capacity\"].apply(lambda x: x.split()[0]))\n",
    "cars_df = cars_df.drop(\"Boot Capacity\", axis=1)"
   ]
  },
  {
   "cell_type": "code",
   "execution_count": 29,
   "metadata": {},
   "outputs": [
    {
     "data": {
      "text/plain": [
       "Index(['Title', 'Brand', 'City', 'Year', 'Kms', 'Fuel', 'Seller', 'Guarantee',\n",
       "       'Length', 'Height', 'Width', 'Doors', 'Vacancies', 'Tank', 'Weight',\n",
       "       'Max Weight', 'Car Body', 'Max Speed', 'Comb Fuel', 'Urban Use',\n",
       "       'Extraurban Use', 'Aceleration', 'CO2 Emissions', 'Output',\n",
       "       'Cubic Capacity', 'Cylinders', 'Max Par', 'Gears', 'Transmission',\n",
       "       'Traction', 'Url', 'Price (€)', 'Boot Capacity (l)'],\n",
       "      dtype='object')"
      ]
     },
     "execution_count": 29,
     "metadata": {},
     "output_type": "execute_result"
    }
   ],
   "source": [
    "cars_df.columns"
   ]
  },
  {
   "cell_type": "markdown",
   "metadata": {},
   "source": [
    "Lenght column"
   ]
  },
  {
   "cell_type": "code",
   "execution_count": 30,
   "metadata": {},
   "outputs": [
    {
     "data": {
      "text/plain": [
       "0    541 cm\n",
       "1    477 cm\n",
       "2    464 cm\n",
       "3    428 cm\n",
       "4    466 cm\n",
       "Name: Length, dtype: object"
      ]
     },
     "execution_count": 30,
     "metadata": {},
     "output_type": "execute_result"
    }
   ],
   "source": [
    "cars_df[\"Length\"].head()"
   ]
  },
  {
   "cell_type": "code",
   "execution_count": 31,
   "metadata": {},
   "outputs": [],
   "source": [
    "cars_df[\"Length (cm)\"] = pd.to_numeric(cars_df[\"Length\"].apply(lambda x: x.split()[0]))\n",
    "cars_df = cars_df.drop(\"Length\", axis=1)"
   ]
  },
  {
   "cell_type": "markdown",
   "metadata": {},
   "source": [
    "Height column"
   ]
  },
  {
   "cell_type": "code",
   "execution_count": 32,
   "metadata": {},
   "outputs": [
    {
     "data": {
      "text/plain": [
       "0    252 cm\n",
       "1    147 cm\n",
       "2    141 cm\n",
       "3    146 cm\n",
       "4    169 cm\n",
       "Name: Height, dtype: object"
      ]
     },
     "execution_count": 32,
     "metadata": {},
     "output_type": "execute_result"
    }
   ],
   "source": [
    "cars_df[\"Height\"].head()"
   ]
  },
  {
   "cell_type": "code",
   "execution_count": 33,
   "metadata": {},
   "outputs": [],
   "source": [
    "cars_df[\"Height (cm)\"] = pd.to_numeric(cars_df[\"Height\"].apply(lambda x: x.split()[0]))\n",
    "cars_df = cars_df.drop(\"Height\", axis=1)"
   ]
  },
  {
   "cell_type": "markdown",
   "metadata": {},
   "source": [
    "Width column"
   ]
  },
  {
   "cell_type": "code",
   "execution_count": 34,
   "metadata": {},
   "outputs": [
    {
     "data": {
      "text/plain": [
       "0    205 cm\n",
       "1    182 cm\n",
       "2    174 cm\n",
       "3    182 cm\n",
       "4    188 cm\n",
       "Name: Width, dtype: object"
      ]
     },
     "execution_count": 34,
     "metadata": {},
     "output_type": "execute_result"
    }
   ],
   "source": [
    "cars_df[\"Width\"].head()"
   ]
  },
  {
   "cell_type": "code",
   "execution_count": 35,
   "metadata": {},
   "outputs": [],
   "source": [
    "cars_df[\"Width (cm)\"] = pd.to_numeric(cars_df[\"Width\"].apply(lambda x: x.split()[0]))\n",
    "cars_df = cars_df.drop(\"Width\", axis=1)"
   ]
  },
  {
   "cell_type": "code",
   "execution_count": 36,
   "metadata": {},
   "outputs": [
    {
     "data": {
      "text/plain": [
       "Index(['Title', 'Brand', 'City', 'Year', 'Kms', 'Fuel', 'Seller', 'Guarantee',\n",
       "       'Doors', 'Vacancies', 'Tank', 'Weight', 'Max Weight', 'Car Body',\n",
       "       'Max Speed', 'Comb Fuel', 'Urban Use', 'Extraurban Use', 'Aceleration',\n",
       "       'CO2 Emissions', 'Output', 'Cubic Capacity', 'Cylinders', 'Max Par',\n",
       "       'Gears', 'Transmission', 'Traction', 'Url', 'Price (€)',\n",
       "       'Boot Capacity (l)', 'Length (cm)', 'Height (cm)', 'Width (cm)'],\n",
       "      dtype='object')"
      ]
     },
     "execution_count": 36,
     "metadata": {},
     "output_type": "execute_result"
    }
   ],
   "source": [
    "cars_df.columns"
   ]
  },
  {
   "cell_type": "markdown",
   "metadata": {},
   "source": [
    "Tank column"
   ]
  },
  {
   "cell_type": "code",
   "execution_count": 37,
   "metadata": {},
   "outputs": [
    {
     "data": {
      "text/plain": [
       "0    90 l\n",
       "1    70 l\n",
       "2    62 l\n",
       "3    50 l\n",
       "4    58 l\n",
       "Name: Tank, dtype: object"
      ]
     },
     "execution_count": 37,
     "metadata": {},
     "output_type": "execute_result"
    }
   ],
   "source": [
    "cars_df[\"Tank\"].head()"
   ]
  },
  {
   "cell_type": "markdown",
   "metadata": {},
   "source": [
    "I have created the next function because I could appreciate that the value of some fields was equal to 'l' and I could not parse the value to int."
   ]
  },
  {
   "cell_type": "code",
   "execution_count": 38,
   "metadata": {},
   "outputs": [],
   "source": [
    "def change_value(serie):\n",
    "    result = []\n",
    "    for val in serie:\n",
    "        if len(val) == 1:\n",
    "            result.append(0)\n",
    "        else:\n",
    "            result.append(pd.to_numeric(val[0]))\n",
    "    return result"
   ]
  },
  {
   "cell_type": "code",
   "execution_count": 39,
   "metadata": {},
   "outputs": [],
   "source": [
    "cars_df[\"Tank (l)\"] = cars_df[\"Tank\"].apply(lambda x: x.split())\n",
    "cars_df[\"Tank (l)\"] = change_value(cars_df[\"Tank (l)\"])\n",
    "\n",
    "cars_df = cars_df.drop(\"Tank\", axis=1)"
   ]
  },
  {
   "cell_type": "markdown",
   "metadata": {},
   "source": [
    "Weight column"
   ]
  },
  {
   "cell_type": "code",
   "execution_count": 40,
   "metadata": {},
   "outputs": [],
   "source": [
    "cars_df[\"Weight (kg)\"] = pd.to_numeric(cars_df[\"Weight\"].apply(lambda x: x.split()[0]))\n",
    "cars_df = cars_df.drop(\"Weight\", axis=1)"
   ]
  },
  {
   "cell_type": "markdown",
   "metadata": {},
   "source": [
    "Max Weight column"
   ]
  },
  {
   "cell_type": "code",
   "execution_count": 41,
   "metadata": {},
   "outputs": [
    {
     "data": {
      "text/plain": [
       "0    3.300 kg\n",
       "1    2.100 kg\n",
       "2    1.960 kg\n",
       "3    1.820 kg\n",
       "4    2.390 kg\n",
       "Name: Max Weight, dtype: object"
      ]
     },
     "execution_count": 41,
     "metadata": {},
     "output_type": "execute_result"
    }
   ],
   "source": [
    "cars_df[\"Max Weight\"].head()"
   ]
  },
  {
   "cell_type": "code",
   "execution_count": 42,
   "metadata": {},
   "outputs": [],
   "source": [
    "cars_df[\"Max Weight (kg)\"] = pd.to_numeric(cars_df[\"Max Weight\"].apply(lambda x: x.split()[0]))\n",
    "cars_df = cars_df.drop(\"Max Weight\", axis=1)"
   ]
  },
  {
   "cell_type": "code",
   "execution_count": 43,
   "metadata": {},
   "outputs": [
    {
     "data": {
      "text/plain": [
       "0    3.30\n",
       "1    2.10\n",
       "2    1.96\n",
       "3    1.82\n",
       "4    2.39\n",
       "Name: Max Weight (kg), dtype: float64"
      ]
     },
     "execution_count": 43,
     "metadata": {},
     "output_type": "execute_result"
    }
   ],
   "source": [
    "cars_df[\"Max Weight (kg)\"].head()"
   ]
  },
  {
   "cell_type": "markdown",
   "metadata": {},
   "source": [
    "Max Speed column"
   ]
  },
  {
   "cell_type": "code",
   "execution_count": 44,
   "metadata": {},
   "outputs": [
    {
     "data": {
      "text/plain": [
       "0      0 km/h\n",
       "1    211 km/h\n",
       "2      0 km/h\n",
       "3    215 km/h\n",
       "4    191 km/h\n",
       "Name: Max Speed, dtype: object"
      ]
     },
     "execution_count": 44,
     "metadata": {},
     "output_type": "execute_result"
    }
   ],
   "source": [
    "cars_df[\"Max Speed\"].head()"
   ]
  },
  {
   "cell_type": "code",
   "execution_count": 45,
   "metadata": {},
   "outputs": [],
   "source": [
    "cars_df[\"Max Speed (km/h)\"] = cars_df[\"Max Speed\"].apply(lambda x: x.split())\n",
    "cars_df[\"Max Speed (km/h)\"] = change_value(cars_df[\"Max Speed (km/h)\"])\n",
    "\n",
    "cars_df = cars_df.drop(\"Max Speed\", axis=1)"
   ]
  },
  {
   "cell_type": "code",
   "execution_count": 46,
   "metadata": {},
   "outputs": [
    {
     "data": {
      "text/plain": [
       "0      0\n",
       "1    211\n",
       "2      0\n",
       "3    215\n",
       "4    191\n",
       "Name: Max Speed (km/h), dtype: int64"
      ]
     },
     "execution_count": 46,
     "metadata": {},
     "output_type": "execute_result"
    }
   ],
   "source": [
    "cars_df[\"Max Speed (km/h)\"].head()"
   ]
  },
  {
   "cell_type": "markdown",
   "metadata": {},
   "source": [
    "Comb Fuel column"
   ]
  },
  {
   "cell_type": "code",
   "execution_count": 47,
   "metadata": {},
   "outputs": [
    {
     "data": {
      "text/plain": [
       "0     7,2 l\n",
       "1     4,6 l\n",
       "2    12,2 l\n",
       "3     4,4 l\n",
       "4     5,1 l\n",
       "Name: Comb Fuel, dtype: object"
      ]
     },
     "execution_count": 47,
     "metadata": {},
     "output_type": "execute_result"
    }
   ],
   "source": [
    "cars_df[\"Comb Fuel\"].head()"
   ]
  },
  {
   "cell_type": "code",
   "execution_count": 48,
   "metadata": {},
   "outputs": [],
   "source": [
    "cars_df[\"Comb Fuel (l)\"] = cars_df[\"Comb Fuel\"].apply(lambda x: x.replace(\",\",\".\").split())\n",
    "cars_df[\"Comb Fuel (l)\"] = change_value(cars_df[\"Comb Fuel (l)\"])\n",
    "\n",
    "cars_df = cars_df.drop(\"Comb Fuel\", axis=1)"
   ]
  },
  {
   "cell_type": "code",
   "execution_count": 49,
   "metadata": {},
   "outputs": [
    {
     "data": {
      "text/plain": [
       "0     7.2\n",
       "1     4.6\n",
       "2    12.2\n",
       "3     4.4\n",
       "4     5.1\n",
       "Name: Comb Fuel (l), dtype: float64"
      ]
     },
     "execution_count": 49,
     "metadata": {},
     "output_type": "execute_result"
    }
   ],
   "source": [
    "cars_df[\"Comb Fuel (l)\"].head()"
   ]
  },
  {
   "cell_type": "markdown",
   "metadata": {},
   "source": [
    "Urban Use column"
   ]
  },
  {
   "cell_type": "code",
   "execution_count": 50,
   "metadata": {},
   "outputs": [
    {
     "data": {
      "text/plain": [
       "0     8,8 l\n",
       "1     6,0 l\n",
       "2    15,9 l\n",
       "3     5,3 l\n",
       "4     6,2 l\n",
       "Name: Urban Use, dtype: object"
      ]
     },
     "execution_count": 50,
     "metadata": {},
     "output_type": "execute_result"
    }
   ],
   "source": [
    "cars_df[\"Urban Use\"].head()"
   ]
  },
  {
   "cell_type": "code",
   "execution_count": 51,
   "metadata": {},
   "outputs": [],
   "source": [
    "cars_df[\"Urban Use (l)\"] = cars_df[\"Urban Use\"].apply(lambda x: x.replace(\",\",\".\").split())\n",
    "cars_df[\"Urban Use (l)\"] = change_value(cars_df[\"Urban Use (l)\"])\n",
    "\n",
    "cars_df = cars_df.drop(\"Urban Use\", axis=1)"
   ]
  },
  {
   "cell_type": "code",
   "execution_count": 52,
   "metadata": {},
   "outputs": [
    {
     "data": {
      "text/plain": [
       "0     8.8\n",
       "1     6.0\n",
       "2    15.9\n",
       "3     5.3\n",
       "4     6.2\n",
       "Name: Urban Use (l), dtype: float64"
      ]
     },
     "execution_count": 52,
     "metadata": {},
     "output_type": "execute_result"
    }
   ],
   "source": [
    "cars_df[\"Urban Use (l)\"].head()"
   ]
  },
  {
   "cell_type": "markdown",
   "metadata": {},
   "source": [
    "Extraurban Use column"
   ]
  },
  {
   "cell_type": "code",
   "execution_count": 53,
   "metadata": {},
   "outputs": [
    {
     "data": {
      "text/plain": [
       "0    6,3 l\n",
       "1    3,7 l\n",
       "2    8,6 l\n",
       "3    3,9 l\n",
       "4    4,5 l\n",
       "Name: Extraurban Use, dtype: object"
      ]
     },
     "execution_count": 53,
     "metadata": {},
     "output_type": "execute_result"
    }
   ],
   "source": [
    "cars_df[\"Extraurban Use\"].head()"
   ]
  },
  {
   "cell_type": "code",
   "execution_count": 54,
   "metadata": {},
   "outputs": [],
   "source": [
    "cars_df[\"Extraurban Use (l)\"] = cars_df[\"Extraurban Use\"].apply(lambda x: x.replace(\",\",\".\").split())\n",
    "cars_df[\"Extraurban Use (l)\"] = change_value(cars_df[\"Extraurban Use (l)\"])\n",
    "\n",
    "cars_df = cars_df.drop(\"Extraurban Use\", axis=1)"
   ]
  },
  {
   "cell_type": "code",
   "execution_count": 55,
   "metadata": {},
   "outputs": [
    {
     "data": {
      "text/plain": [
       "0    6.3\n",
       "1    3.7\n",
       "2    8.6\n",
       "3    3.9\n",
       "4    4.5\n",
       "Name: Extraurban Use (l), dtype: float64"
      ]
     },
     "execution_count": 55,
     "metadata": {},
     "output_type": "execute_result"
    }
   ],
   "source": [
    "cars_df[\"Extraurban Use (l)\"].head()"
   ]
  },
  {
   "cell_type": "markdown",
   "metadata": {},
   "source": [
    "Aceleration column"
   ]
  },
  {
   "cell_type": "code",
   "execution_count": 56,
   "metadata": {},
   "outputs": [
    {
     "data": {
      "text/plain": [
       "0     0,0 s\n",
       "1     9,8 s\n",
       "2     9,3 s\n",
       "3     8,4 s\n",
       "4    11,4 s\n",
       "Name: Aceleration, dtype: object"
      ]
     },
     "execution_count": 56,
     "metadata": {},
     "output_type": "execute_result"
    }
   ],
   "source": [
    "cars_df[\"Aceleration\"].head()"
   ]
  },
  {
   "cell_type": "code",
   "execution_count": 57,
   "metadata": {},
   "outputs": [],
   "source": [
    "cars_df[\"Aceleration 0-100 (s)\"] = cars_df[\"Aceleration\"].apply(lambda x: x.replace(\",\",\".\").split())\n",
    "cars_df[\"Aceleration 0-100 (s)\"] = change_value(cars_df[\"Aceleration 0-100 (s)\"])\n",
    "\n",
    "cars_df = cars_df.drop(\"Aceleration\", axis=1)"
   ]
  },
  {
   "cell_type": "code",
   "execution_count": 58,
   "metadata": {},
   "outputs": [
    {
     "data": {
      "text/plain": [
       "0     0.0\n",
       "1     9.8\n",
       "2     9.3\n",
       "3     8.4\n",
       "4    11.4\n",
       "Name: Aceleration 0-100 (s), dtype: float64"
      ]
     },
     "execution_count": 58,
     "metadata": {},
     "output_type": "execute_result"
    }
   ],
   "source": [
    "cars_df[\"Aceleration 0-100 (s)\"].head()"
   ]
  },
  {
   "cell_type": "markdown",
   "metadata": {},
   "source": [
    "CO2 Emissions column"
   ]
  },
  {
   "cell_type": "code",
   "execution_count": 59,
   "metadata": {},
   "outputs": [
    {
     "data": {
      "text/plain": [
       "0    199 gr/m3\n",
       "1    119 gr/m3\n",
       "2      0 gr/m3\n",
       "3    112 gr/m3\n",
       "4    134 gr/m3\n",
       "Name: CO2 Emissions, dtype: object"
      ]
     },
     "execution_count": 59,
     "metadata": {},
     "output_type": "execute_result"
    }
   ],
   "source": [
    "cars_df[\"CO2 Emissions\"].head()"
   ]
  },
  {
   "cell_type": "code",
   "execution_count": 60,
   "metadata": {},
   "outputs": [],
   "source": [
    "cars_df[\"CO2 Emissions (gr/m3)\"] = cars_df[\"CO2 Emissions\"].apply(lambda x: x.split())\n",
    "cars_df[\"CO2 Emissions (gr/m3)\"] = change_value(cars_df[\"CO2 Emissions (gr/m3)\"])\n",
    "\n",
    "cars_df = cars_df.drop(\"CO2 Emissions\", axis=1)"
   ]
  },
  {
   "cell_type": "code",
   "execution_count": 61,
   "metadata": {},
   "outputs": [
    {
     "data": {
      "text/plain": [
       "0    199\n",
       "1    119\n",
       "2      0\n",
       "3    112\n",
       "4    134\n",
       "Name: CO2 Emissions (gr/m3), dtype: int64"
      ]
     },
     "execution_count": 61,
     "metadata": {},
     "output_type": "execute_result"
    }
   ],
   "source": [
    "cars_df[\"CO2 Emissions (gr/m3)\"].head()"
   ]
  },
  {
   "cell_type": "markdown",
   "metadata": {},
   "source": [
    "Output column"
   ]
  },
  {
   "cell_type": "code",
   "execution_count": 62,
   "metadata": {},
   "outputs": [
    {
     "data": {
      "text/plain": [
       "0    150 cv\n",
       "1    140 cv\n",
       "2    163 cv\n",
       "3    150 cv\n",
       "4    130 cv\n",
       "Name: Output, dtype: object"
      ]
     },
     "execution_count": 62,
     "metadata": {},
     "output_type": "execute_result"
    }
   ],
   "source": [
    "cars_df[\"Output\"].head()"
   ]
  },
  {
   "cell_type": "code",
   "execution_count": 63,
   "metadata": {},
   "outputs": [],
   "source": [
    "cars_df[\"Output (cv)\"] = pd.to_numeric(cars_df[\"Output\"].apply(lambda x: x.split()[0]))\n",
    "\n",
    "cars_df = cars_df.drop(\"Output\", axis=1)"
   ]
  },
  {
   "cell_type": "code",
   "execution_count": 64,
   "metadata": {},
   "outputs": [
    {
     "data": {
      "text/plain": [
       "0    150\n",
       "1    140\n",
       "2    163\n",
       "3    150\n",
       "4    130\n",
       "Name: Output (cv), dtype: int64"
      ]
     },
     "execution_count": 64,
     "metadata": {},
     "output_type": "execute_result"
    }
   ],
   "source": [
    "cars_df[\"Output (cv)\"].head()"
   ]
  },
  {
   "cell_type": "markdown",
   "metadata": {},
   "source": [
    "Cubic Capacity column"
   ]
  },
  {
   "cell_type": "code",
   "execution_count": 65,
   "metadata": {},
   "outputs": [
    {
     "data": {
      "text/plain": [
       "0    2.198 cm3\n",
       "1    1.968 cm3\n",
       "2    1.796 cm3\n",
       "3    1.968 cm3\n",
       "4    1.956 cm3\n",
       "Name: Cubic Capacity, dtype: object"
      ]
     },
     "execution_count": 65,
     "metadata": {},
     "output_type": "execute_result"
    }
   ],
   "source": [
    "cars_df[\"Cubic Capacity\"].head()"
   ]
  },
  {
   "cell_type": "code",
   "execution_count": 66,
   "metadata": {},
   "outputs": [],
   "source": [
    "cars_df[\"Cubic Capacity (cm3)\"] = pd.to_numeric(cars_df[\"Cubic Capacity\"].apply(lambda x: x.replace(\".\", \"\").split()[0]))\n",
    "\n",
    "cars_df = cars_df.drop(\"Cubic Capacity\", axis=1)"
   ]
  },
  {
   "cell_type": "code",
   "execution_count": 67,
   "metadata": {},
   "outputs": [
    {
     "data": {
      "text/plain": [
       "0    2198\n",
       "1    1968\n",
       "2    1796\n",
       "3    1968\n",
       "4    1956\n",
       "Name: Cubic Capacity (cm3), dtype: int64"
      ]
     },
     "execution_count": 67,
     "metadata": {},
     "output_type": "execute_result"
    }
   ],
   "source": [
    "cars_df[\"Cubic Capacity (cm3)\"].head()"
   ]
  },
  {
   "cell_type": "markdown",
   "metadata": {},
   "source": [
    "Max Par column"
   ]
  },
  {
   "cell_type": "code",
   "execution_count": 68,
   "metadata": {},
   "outputs": [
    {
     "data": {
      "text/plain": [
       "0    350 Nm\n",
       "1    320 Nm\n",
       "2    240 Nm\n",
       "3    340 Nm\n",
       "4    300 Nm\n",
       "Name: Max Par, dtype: object"
      ]
     },
     "execution_count": 68,
     "metadata": {},
     "output_type": "execute_result"
    }
   ],
   "source": [
    "cars_df[\"Max Par\"].head()"
   ]
  },
  {
   "cell_type": "code",
   "execution_count": 69,
   "metadata": {},
   "outputs": [],
   "source": [
    "cars_df[\"Max Par (Nm)\"] = pd.to_numeric(cars_df[\"Max Par\"].apply(lambda x: x.split()[0]))\n",
    "\n",
    "cars_df = cars_df.drop(\"Max Par\", axis=1)"
   ]
  },
  {
   "cell_type": "code",
   "execution_count": 70,
   "metadata": {},
   "outputs": [
    {
     "data": {
      "text/plain": [
       "0    350\n",
       "1    320\n",
       "2    240\n",
       "3    340\n",
       "4    300\n",
       "Name: Max Par (Nm), dtype: int64"
      ]
     },
     "execution_count": 70,
     "metadata": {},
     "output_type": "execute_result"
    }
   ],
   "source": [
    "cars_df[\"Max Par (Nm)\"].head()"
   ]
  },
  {
   "cell_type": "code",
   "execution_count": 71,
   "metadata": {},
   "outputs": [
    {
     "data": {
      "text/html": [
       "<div>\n",
       "<style scoped>\n",
       "    .dataframe tbody tr th:only-of-type {\n",
       "        vertical-align: middle;\n",
       "    }\n",
       "\n",
       "    .dataframe tbody tr th {\n",
       "        vertical-align: top;\n",
       "    }\n",
       "\n",
       "    .dataframe thead th {\n",
       "        text-align: right;\n",
       "    }\n",
       "</style>\n",
       "<table border=\"1\" class=\"dataframe\">\n",
       "  <thead>\n",
       "    <tr style=\"text-align: right;\">\n",
       "      <th></th>\n",
       "      <th>Year</th>\n",
       "      <th>Kms</th>\n",
       "      <th>Doors</th>\n",
       "      <th>Vacancies</th>\n",
       "      <th>Gears</th>\n",
       "      <th>Price (€)</th>\n",
       "      <th>Boot Capacity (l)</th>\n",
       "      <th>Length (cm)</th>\n",
       "      <th>Height (cm)</th>\n",
       "      <th>Width (cm)</th>\n",
       "      <th>...</th>\n",
       "      <th>Max Weight (kg)</th>\n",
       "      <th>Max Speed (km/h)</th>\n",
       "      <th>Comb Fuel (l)</th>\n",
       "      <th>Urban Use (l)</th>\n",
       "      <th>Extraurban Use (l)</th>\n",
       "      <th>Aceleration 0-100 (s)</th>\n",
       "      <th>CO2 Emissions (gr/m3)</th>\n",
       "      <th>Output (cv)</th>\n",
       "      <th>Cubic Capacity (cm3)</th>\n",
       "      <th>Max Par (Nm)</th>\n",
       "    </tr>\n",
       "  </thead>\n",
       "  <tbody>\n",
       "    <tr>\n",
       "      <th>count</th>\n",
       "      <td>82961.000000</td>\n",
       "      <td>8.296100e+04</td>\n",
       "      <td>82961.000000</td>\n",
       "      <td>82961.000000</td>\n",
       "      <td>82961.000000</td>\n",
       "      <td>8.296100e+04</td>\n",
       "      <td>82961.000000</td>\n",
       "      <td>82961.000000</td>\n",
       "      <td>82961.000000</td>\n",
       "      <td>82961.000000</td>\n",
       "      <td>...</td>\n",
       "      <td>82961.000000</td>\n",
       "      <td>82961.000000</td>\n",
       "      <td>82961.000000</td>\n",
       "      <td>82961.000000</td>\n",
       "      <td>82961.000000</td>\n",
       "      <td>82961.000000</td>\n",
       "      <td>82961.000000</td>\n",
       "      <td>82961.000000</td>\n",
       "      <td>82961.000000</td>\n",
       "      <td>82961.000000</td>\n",
       "    </tr>\n",
       "    <tr>\n",
       "      <th>mean</th>\n",
       "      <td>2011.596075</td>\n",
       "      <td>1.174546e+05</td>\n",
       "      <td>4.429648</td>\n",
       "      <td>4.888948</td>\n",
       "      <td>5.815914</td>\n",
       "      <td>1.720151e+04</td>\n",
       "      <td>329.255229</td>\n",
       "      <td>431.954412</td>\n",
       "      <td>151.518485</td>\n",
       "      <td>179.222454</td>\n",
       "      <td>...</td>\n",
       "      <td>3.840019</td>\n",
       "      <td>169.157218</td>\n",
       "      <td>5.548082</td>\n",
       "      <td>6.926261</td>\n",
       "      <td>4.689823</td>\n",
       "      <td>9.988677</td>\n",
       "      <td>120.539133</td>\n",
       "      <td>140.570557</td>\n",
       "      <td>1895.721086</td>\n",
       "      <td>277.899447</td>\n",
       "    </tr>\n",
       "    <tr>\n",
       "      <th>std</th>\n",
       "      <td>5.729486</td>\n",
       "      <td>7.456621e+06</td>\n",
       "      <td>0.907018</td>\n",
       "      <td>0.851398</td>\n",
       "      <td>0.943719</td>\n",
       "      <td>2.472652e+04</td>\n",
       "      <td>207.701891</td>\n",
       "      <td>75.237054</td>\n",
       "      <td>28.271092</td>\n",
       "      <td>13.414875</td>\n",
       "      <td>...</td>\n",
       "      <td>41.367538</td>\n",
       "      <td>72.009002</td>\n",
       "      <td>2.107840</td>\n",
       "      <td>3.106232</td>\n",
       "      <td>1.538672</td>\n",
       "      <td>3.527402</td>\n",
       "      <td>61.384730</td>\n",
       "      <td>71.620313</td>\n",
       "      <td>681.354202</td>\n",
       "      <td>121.641327</td>\n",
       "    </tr>\n",
       "    <tr>\n",
       "      <th>min</th>\n",
       "      <td>1952.000000</td>\n",
       "      <td>0.000000e+00</td>\n",
       "      <td>0.000000</td>\n",
       "      <td>1.000000</td>\n",
       "      <td>1.000000</td>\n",
       "      <td>5.000000e+02</td>\n",
       "      <td>0.000000</td>\n",
       "      <td>0.000000</td>\n",
       "      <td>0.000000</td>\n",
       "      <td>0.000000</td>\n",
       "      <td>...</td>\n",
       "      <td>1.015000</td>\n",
       "      <td>0.000000</td>\n",
       "      <td>0.000000</td>\n",
       "      <td>0.000000</td>\n",
       "      <td>0.000000</td>\n",
       "      <td>0.000000</td>\n",
       "      <td>0.000000</td>\n",
       "      <td>14.000000</td>\n",
       "      <td>0.000000</td>\n",
       "      <td>0.000000</td>\n",
       "    </tr>\n",
       "    <tr>\n",
       "      <th>25%</th>\n",
       "      <td>2008.000000</td>\n",
       "      <td>1.900000e+04</td>\n",
       "      <td>4.000000</td>\n",
       "      <td>5.000000</td>\n",
       "      <td>5.000000</td>\n",
       "      <td>7.490000e+03</td>\n",
       "      <td>190.000000</td>\n",
       "      <td>419.000000</td>\n",
       "      <td>144.000000</td>\n",
       "      <td>175.000000</td>\n",
       "      <td>...</td>\n",
       "      <td>1.755000</td>\n",
       "      <td>168.000000</td>\n",
       "      <td>4.300000</td>\n",
       "      <td>5.100000</td>\n",
       "      <td>3.800000</td>\n",
       "      <td>8.600000</td>\n",
       "      <td>103.000000</td>\n",
       "      <td>100.000000</td>\n",
       "      <td>1499.000000</td>\n",
       "      <td>200.000000</td>\n",
       "    </tr>\n",
       "    <tr>\n",
       "      <th>50%</th>\n",
       "      <td>2013.000000</td>\n",
       "      <td>7.436900e+04</td>\n",
       "      <td>5.000000</td>\n",
       "      <td>5.000000</td>\n",
       "      <td>6.000000</td>\n",
       "      <td>1.280000e+04</td>\n",
       "      <td>360.000000</td>\n",
       "      <td>438.000000</td>\n",
       "      <td>148.000000</td>\n",
       "      <td>180.000000</td>\n",
       "      <td>...</td>\n",
       "      <td>1.940000</td>\n",
       "      <td>189.000000</td>\n",
       "      <td>5.100000</td>\n",
       "      <td>6.200000</td>\n",
       "      <td>4.300000</td>\n",
       "      <td>10.500000</td>\n",
       "      <td>119.000000</td>\n",
       "      <td>120.000000</td>\n",
       "      <td>1798.000000</td>\n",
       "      <td>270.000000</td>\n",
       "    </tr>\n",
       "    <tr>\n",
       "      <th>75%</th>\n",
       "      <td>2016.000000</td>\n",
       "      <td>1.400000e+05</td>\n",
       "      <td>5.000000</td>\n",
       "      <td>5.000000</td>\n",
       "      <td>6.000000</td>\n",
       "      <td>2.030000e+04</td>\n",
       "      <td>480.000000</td>\n",
       "      <td>466.000000</td>\n",
       "      <td>163.000000</td>\n",
       "      <td>184.000000</td>\n",
       "      <td>...</td>\n",
       "      <td>2.150000</td>\n",
       "      <td>208.000000</td>\n",
       "      <td>6.300000</td>\n",
       "      <td>7.900000</td>\n",
       "      <td>5.300000</td>\n",
       "      <td>12.000000</td>\n",
       "      <td>148.000000</td>\n",
       "      <td>150.000000</td>\n",
       "      <td>1997.000000</td>\n",
       "      <td>330.000000</td>\n",
       "    </tr>\n",
       "    <tr>\n",
       "      <th>max</th>\n",
       "      <td>2018.000000</td>\n",
       "      <td>2.147484e+09</td>\n",
       "      <td>5.000000</td>\n",
       "      <td>16.000000</td>\n",
       "      <td>10.000000</td>\n",
       "      <td>3.259900e+06</td>\n",
       "      <td>994.000000</td>\n",
       "      <td>822.000000</td>\n",
       "      <td>325.000000</td>\n",
       "      <td>247.000000</td>\n",
       "      <td>...</td>\n",
       "      <td>990.000000</td>\n",
       "      <td>407.000000</td>\n",
       "      <td>24.100000</td>\n",
       "      <td>40.400000</td>\n",
       "      <td>15.100000</td>\n",
       "      <td>33.500000</td>\n",
       "      <td>574.000000</td>\n",
       "      <td>1001.000000</td>\n",
       "      <td>8300.000000</td>\n",
       "      <td>1250.000000</td>\n",
       "    </tr>\n",
       "  </tbody>\n",
       "</table>\n",
       "<p>8 rows × 22 columns</p>\n",
       "</div>"
      ],
      "text/plain": [
       "               Year           Kms         Doors     Vacancies         Gears  \\\n",
       "count  82961.000000  8.296100e+04  82961.000000  82961.000000  82961.000000   \n",
       "mean    2011.596075  1.174546e+05      4.429648      4.888948      5.815914   \n",
       "std        5.729486  7.456621e+06      0.907018      0.851398      0.943719   \n",
       "min     1952.000000  0.000000e+00      0.000000      1.000000      1.000000   \n",
       "25%     2008.000000  1.900000e+04      4.000000      5.000000      5.000000   \n",
       "50%     2013.000000  7.436900e+04      5.000000      5.000000      6.000000   \n",
       "75%     2016.000000  1.400000e+05      5.000000      5.000000      6.000000   \n",
       "max     2018.000000  2.147484e+09      5.000000     16.000000     10.000000   \n",
       "\n",
       "          Price (€)  Boot Capacity (l)   Length (cm)   Height (cm)  \\\n",
       "count  8.296100e+04       82961.000000  82961.000000  82961.000000   \n",
       "mean   1.720151e+04         329.255229    431.954412    151.518485   \n",
       "std    2.472652e+04         207.701891     75.237054     28.271092   \n",
       "min    5.000000e+02           0.000000      0.000000      0.000000   \n",
       "25%    7.490000e+03         190.000000    419.000000    144.000000   \n",
       "50%    1.280000e+04         360.000000    438.000000    148.000000   \n",
       "75%    2.030000e+04         480.000000    466.000000    163.000000   \n",
       "max    3.259900e+06         994.000000    822.000000    325.000000   \n",
       "\n",
       "         Width (cm)      ...       Max Weight (kg)  Max Speed (km/h)  \\\n",
       "count  82961.000000      ...          82961.000000      82961.000000   \n",
       "mean     179.222454      ...              3.840019        169.157218   \n",
       "std       13.414875      ...             41.367538         72.009002   \n",
       "min        0.000000      ...              1.015000          0.000000   \n",
       "25%      175.000000      ...              1.755000        168.000000   \n",
       "50%      180.000000      ...              1.940000        189.000000   \n",
       "75%      184.000000      ...              2.150000        208.000000   \n",
       "max      247.000000      ...            990.000000        407.000000   \n",
       "\n",
       "       Comb Fuel (l)  Urban Use (l)  Extraurban Use (l)  \\\n",
       "count   82961.000000   82961.000000        82961.000000   \n",
       "mean        5.548082       6.926261            4.689823   \n",
       "std         2.107840       3.106232            1.538672   \n",
       "min         0.000000       0.000000            0.000000   \n",
       "25%         4.300000       5.100000            3.800000   \n",
       "50%         5.100000       6.200000            4.300000   \n",
       "75%         6.300000       7.900000            5.300000   \n",
       "max        24.100000      40.400000           15.100000   \n",
       "\n",
       "       Aceleration 0-100 (s)  CO2 Emissions (gr/m3)   Output (cv)  \\\n",
       "count           82961.000000           82961.000000  82961.000000   \n",
       "mean                9.988677             120.539133    140.570557   \n",
       "std                 3.527402              61.384730     71.620313   \n",
       "min                 0.000000               0.000000     14.000000   \n",
       "25%                 8.600000             103.000000    100.000000   \n",
       "50%                10.500000             119.000000    120.000000   \n",
       "75%                12.000000             148.000000    150.000000   \n",
       "max                33.500000             574.000000   1001.000000   \n",
       "\n",
       "       Cubic Capacity (cm3)  Max Par (Nm)  \n",
       "count          82961.000000  82961.000000  \n",
       "mean            1895.721086    277.899447  \n",
       "std              681.354202    121.641327  \n",
       "min                0.000000      0.000000  \n",
       "25%             1499.000000    200.000000  \n",
       "50%             1798.000000    270.000000  \n",
       "75%             1997.000000    330.000000  \n",
       "max             8300.000000   1250.000000  \n",
       "\n",
       "[8 rows x 22 columns]"
      ]
     },
     "execution_count": 71,
     "metadata": {},
     "output_type": "execute_result"
    }
   ],
   "source": [
    "cars_df.describe()"
   ]
  },
  {
   "cell_type": "markdown",
   "metadata": {},
   "source": [
    "Once we have modified the type of these columns, we add two new columns which contains the coordinates of every city."
   ]
  },
  {
   "cell_type": "markdown",
   "metadata": {},
   "source": [
    "In order to create those columns, we are going to use the geopy package. Probably we have to install this package before, so we must install it using the next command in our shell: 'pip install geopy'"
   ]
  },
  {
   "cell_type": "code",
   "execution_count": 72,
   "metadata": {},
   "outputs": [],
   "source": [
    "from geopy.geocoders import Nominatim"
   ]
  },
  {
   "cell_type": "code",
   "execution_count": 73,
   "metadata": {},
   "outputs": [],
   "source": [
    "#Now we create a DataFrame that contains the cities of our dataset which its coordinates.\n",
    "\n",
    "locator = Nominatim()\n",
    "cities = cars_df[\"City\"].unique()\n",
    "\n",
    "coordinates_per_city = []\n",
    "\n",
    "for city in cities:\n",
    "    location = locator.geocode([city])\n",
    "    coordinates_per_city.append([city, location.latitude, location.longitude])\n",
    "    \n",
    "df_cities = pd.DataFrame(coordinates_per_city, columns=[\"City\", \"Latitude\", \"Longitude\"])"
   ]
  },
  {
   "cell_type": "code",
   "execution_count": 74,
   "metadata": {},
   "outputs": [
    {
     "data": {
      "text/html": [
       "<div>\n",
       "<style scoped>\n",
       "    .dataframe tbody tr th:only-of-type {\n",
       "        vertical-align: middle;\n",
       "    }\n",
       "\n",
       "    .dataframe tbody tr th {\n",
       "        vertical-align: top;\n",
       "    }\n",
       "\n",
       "    .dataframe thead th {\n",
       "        text-align: right;\n",
       "    }\n",
       "</style>\n",
       "<table border=\"1\" class=\"dataframe\">\n",
       "  <thead>\n",
       "    <tr style=\"text-align: right;\">\n",
       "      <th></th>\n",
       "      <th>City</th>\n",
       "      <th>Latitude</th>\n",
       "      <th>Longitude</th>\n",
       "    </tr>\n",
       "  </thead>\n",
       "  <tbody>\n",
       "    <tr>\n",
       "      <th>0</th>\n",
       "      <td>Barcelona</td>\n",
       "      <td>41.382894</td>\n",
       "      <td>2.177432</td>\n",
       "    </tr>\n",
       "    <tr>\n",
       "      <th>1</th>\n",
       "      <td>Madrid</td>\n",
       "      <td>40.416705</td>\n",
       "      <td>-3.703582</td>\n",
       "    </tr>\n",
       "    <tr>\n",
       "      <th>2</th>\n",
       "      <td>Malaga</td>\n",
       "      <td>36.721303</td>\n",
       "      <td>-4.421637</td>\n",
       "    </tr>\n",
       "    <tr>\n",
       "      <th>3</th>\n",
       "      <td>Castellon</td>\n",
       "      <td>40.251857</td>\n",
       "      <td>-0.061505</td>\n",
       "    </tr>\n",
       "    <tr>\n",
       "      <th>4</th>\n",
       "      <td>Murcia</td>\n",
       "      <td>37.992379</td>\n",
       "      <td>-1.130543</td>\n",
       "    </tr>\n",
       "  </tbody>\n",
       "</table>\n",
       "</div>"
      ],
      "text/plain": [
       "         City   Latitude  Longitude\n",
       "0  Barcelona   41.382894   2.177432\n",
       "1     Madrid   40.416705  -3.703582\n",
       "2     Malaga   36.721303  -4.421637\n",
       "3  Castellon   40.251857  -0.061505\n",
       "4     Murcia   37.992379  -1.130543"
      ]
     },
     "execution_count": 74,
     "metadata": {},
     "output_type": "execute_result"
    }
   ],
   "source": [
    "df_cities.head()"
   ]
  },
  {
   "cell_type": "markdown",
   "metadata": {},
   "source": [
    "Finally, we merge this data frame with the other."
   ]
  },
  {
   "cell_type": "code",
   "execution_count": 75,
   "metadata": {},
   "outputs": [],
   "source": [
    "cars_with_coords_df = pd.merge(cars_df, df_cities, on = 'City')"
   ]
  },
  {
   "cell_type": "code",
   "execution_count": 76,
   "metadata": {},
   "outputs": [
    {
     "data": {
      "text/html": [
       "<div>\n",
       "<style scoped>\n",
       "    .dataframe tbody tr th:only-of-type {\n",
       "        vertical-align: middle;\n",
       "    }\n",
       "\n",
       "    .dataframe tbody tr th {\n",
       "        vertical-align: top;\n",
       "    }\n",
       "\n",
       "    .dataframe thead th {\n",
       "        text-align: right;\n",
       "    }\n",
       "</style>\n",
       "<table border=\"1\" class=\"dataframe\">\n",
       "  <thead>\n",
       "    <tr style=\"text-align: right;\">\n",
       "      <th></th>\n",
       "      <th>Title</th>\n",
       "      <th>Brand</th>\n",
       "      <th>City</th>\n",
       "      <th>Year</th>\n",
       "      <th>Kms</th>\n",
       "      <th>Fuel</th>\n",
       "      <th>Seller</th>\n",
       "      <th>Guarantee</th>\n",
       "      <th>Doors</th>\n",
       "      <th>Vacancies</th>\n",
       "      <th>...</th>\n",
       "      <th>Comb Fuel (l)</th>\n",
       "      <th>Urban Use (l)</th>\n",
       "      <th>Extraurban Use (l)</th>\n",
       "      <th>Aceleration 0-100 (s)</th>\n",
       "      <th>CO2 Emissions (gr/m3)</th>\n",
       "      <th>Output (cv)</th>\n",
       "      <th>Cubic Capacity (cm3)</th>\n",
       "      <th>Max Par (Nm)</th>\n",
       "      <th>Latitude</th>\n",
       "      <th>Longitude</th>\n",
       "    </tr>\n",
       "  </thead>\n",
       "  <tbody>\n",
       "    <tr>\n",
       "      <th>0</th>\n",
       "      <td>Citroen Jumper 2.2hdi Cl 33 L2h2 150</td>\n",
       "      <td>Citroen</td>\n",
       "      <td>Barcelona</td>\n",
       "      <td>2014</td>\n",
       "      <td>105000</td>\n",
       "      <td>Diesel</td>\n",
       "      <td>Profesional</td>\n",
       "      <td>Sí</td>\n",
       "      <td>4</td>\n",
       "      <td>9</td>\n",
       "      <td>...</td>\n",
       "      <td>7.2</td>\n",
       "      <td>8.8</td>\n",
       "      <td>6.3</td>\n",
       "      <td>0.0</td>\n",
       "      <td>199</td>\n",
       "      <td>150</td>\n",
       "      <td>2198</td>\n",
       "      <td>350</td>\n",
       "      <td>41.382894</td>\n",
       "      <td>2.177432</td>\n",
       "    </tr>\n",
       "    <tr>\n",
       "      <th>1</th>\n",
       "      <td>Nissan Juke 1.5dci Acenta 4x2</td>\n",
       "      <td>Nissan</td>\n",
       "      <td>Barcelona</td>\n",
       "      <td>2017</td>\n",
       "      <td>13059</td>\n",
       "      <td>Diesel</td>\n",
       "      <td>Profesional</td>\n",
       "      <td>Sí</td>\n",
       "      <td>5</td>\n",
       "      <td>5</td>\n",
       "      <td>...</td>\n",
       "      <td>4.0</td>\n",
       "      <td>4.6</td>\n",
       "      <td>3.7</td>\n",
       "      <td>11.2</td>\n",
       "      <td>104</td>\n",
       "      <td>110</td>\n",
       "      <td>1461</td>\n",
       "      <td>260</td>\n",
       "      <td>41.382894</td>\n",
       "      <td>2.177432</td>\n",
       "    </tr>\n",
       "    <tr>\n",
       "      <th>2</th>\n",
       "      <td>Citroen C4 Cactus 1.6 Bluehdi S&amp;s Feel 100</td>\n",
       "      <td>Citroen</td>\n",
       "      <td>Barcelona</td>\n",
       "      <td>2015</td>\n",
       "      <td>13700</td>\n",
       "      <td>Diesel</td>\n",
       "      <td>Profesional</td>\n",
       "      <td>Sí</td>\n",
       "      <td>5</td>\n",
       "      <td>5</td>\n",
       "      <td>...</td>\n",
       "      <td>3.4</td>\n",
       "      <td>3.8</td>\n",
       "      <td>3.2</td>\n",
       "      <td>10.7</td>\n",
       "      <td>90</td>\n",
       "      <td>100</td>\n",
       "      <td>1560</td>\n",
       "      <td>254</td>\n",
       "      <td>41.382894</td>\n",
       "      <td>2.177432</td>\n",
       "    </tr>\n",
       "    <tr>\n",
       "      <th>3</th>\n",
       "      <td>Opel Vivaro Viv. Com6 2.0cdti 29 L2 Semi Acris...</td>\n",
       "      <td>Opel</td>\n",
       "      <td>Barcelona</td>\n",
       "      <td>2014</td>\n",
       "      <td>128000</td>\n",
       "      <td>Diesel</td>\n",
       "      <td>Profesional</td>\n",
       "      <td>Sí</td>\n",
       "      <td>4</td>\n",
       "      <td>6</td>\n",
       "      <td>...</td>\n",
       "      <td>7.9</td>\n",
       "      <td>9.8</td>\n",
       "      <td>7.0</td>\n",
       "      <td>0.0</td>\n",
       "      <td>202</td>\n",
       "      <td>114</td>\n",
       "      <td>1995</td>\n",
       "      <td>290</td>\n",
       "      <td>41.382894</td>\n",
       "      <td>2.177432</td>\n",
       "    </tr>\n",
       "    <tr>\n",
       "      <th>4</th>\n",
       "      <td>Peugeot Expert Combi 6 Mixto 2.0hdi</td>\n",
       "      <td>Peugeot</td>\n",
       "      <td>Barcelona</td>\n",
       "      <td>2006</td>\n",
       "      <td>215000</td>\n",
       "      <td>Diesel</td>\n",
       "      <td>Profesional</td>\n",
       "      <td>Sí</td>\n",
       "      <td>4</td>\n",
       "      <td>6</td>\n",
       "      <td>...</td>\n",
       "      <td>6.7</td>\n",
       "      <td>8.3</td>\n",
       "      <td>5.7</td>\n",
       "      <td>0.0</td>\n",
       "      <td>0</td>\n",
       "      <td>95</td>\n",
       "      <td>1997</td>\n",
       "      <td>215</td>\n",
       "      <td>41.382894</td>\n",
       "      <td>2.177432</td>\n",
       "    </tr>\n",
       "  </tbody>\n",
       "</table>\n",
       "<p>5 rows × 35 columns</p>\n",
       "</div>"
      ],
      "text/plain": [
       "                                               Title    Brand        City  \\\n",
       "0               Citroen Jumper 2.2hdi Cl 33 L2h2 150  Citroen  Barcelona    \n",
       "1                      Nissan Juke 1.5dci Acenta 4x2   Nissan  Barcelona    \n",
       "2         Citroen C4 Cactus 1.6 Bluehdi S&s Feel 100  Citroen  Barcelona    \n",
       "3  Opel Vivaro Viv. Com6 2.0cdti 29 L2 Semi Acris...     Opel  Barcelona    \n",
       "4                Peugeot Expert Combi 6 Mixto 2.0hdi  Peugeot  Barcelona    \n",
       "\n",
       "   Year     Kms    Fuel       Seller Guarantee  Doors  Vacancies    ...      \\\n",
       "0  2014  105000  Diesel  Profesional        Sí      4          9    ...       \n",
       "1  2017   13059  Diesel  Profesional        Sí      5          5    ...       \n",
       "2  2015   13700  Diesel  Profesional        Sí      5          5    ...       \n",
       "3  2014  128000  Diesel  Profesional        Sí      4          6    ...       \n",
       "4  2006  215000  Diesel  Profesional        Sí      4          6    ...       \n",
       "\n",
       "  Comb Fuel (l) Urban Use (l)  Extraurban Use (l) Aceleration 0-100 (s)  \\\n",
       "0           7.2           8.8                 6.3                   0.0   \n",
       "1           4.0           4.6                 3.7                  11.2   \n",
       "2           3.4           3.8                 3.2                  10.7   \n",
       "3           7.9           9.8                 7.0                   0.0   \n",
       "4           6.7           8.3                 5.7                   0.0   \n",
       "\n",
       "  CO2 Emissions (gr/m3) Output (cv)  Cubic Capacity (cm3)  Max Par (Nm)  \\\n",
       "0                   199         150                  2198           350   \n",
       "1                   104         110                  1461           260   \n",
       "2                    90         100                  1560           254   \n",
       "3                   202         114                  1995           290   \n",
       "4                     0          95                  1997           215   \n",
       "\n",
       "    Latitude  Longitude  \n",
       "0  41.382894   2.177432  \n",
       "1  41.382894   2.177432  \n",
       "2  41.382894   2.177432  \n",
       "3  41.382894   2.177432  \n",
       "4  41.382894   2.177432  \n",
       "\n",
       "[5 rows x 35 columns]"
      ]
     },
     "execution_count": 76,
     "metadata": {},
     "output_type": "execute_result"
    }
   ],
   "source": [
    "cars_with_coords_df.head()"
   ]
  },
  {
   "cell_type": "markdown",
   "metadata": {},
   "source": [
    "The next step is adding two more columns to our data frame."
   ]
  },
  {
   "cell_type": "markdown",
   "metadata": {},
   "source": [
    "The first one contains the brands rating (score), and the other one contains the type rating (score)."
   ]
  },
  {
   "cell_type": "markdown",
   "metadata": {},
   "source": [
    "We start adding the first column."
   ]
  },
  {
   "cell_type": "code",
   "execution_count": 77,
   "metadata": {},
   "outputs": [],
   "source": [
    "# Dataset loading\n",
    "brands_rank = pd.read_csv(\"../data/brands_rank.csv\", sep=\";\")"
   ]
  },
  {
   "cell_type": "code",
   "execution_count": 78,
   "metadata": {},
   "outputs": [
    {
     "data": {
      "text/plain": [
       "(54, 2)"
      ]
     },
     "execution_count": 78,
     "metadata": {},
     "output_type": "execute_result"
    }
   ],
   "source": [
    "np.shape(brands_rank)"
   ]
  },
  {
   "cell_type": "code",
   "execution_count": 79,
   "metadata": {},
   "outputs": [
    {
     "data": {
      "text/html": [
       "<div>\n",
       "<style scoped>\n",
       "    .dataframe tbody tr th:only-of-type {\n",
       "        vertical-align: middle;\n",
       "    }\n",
       "\n",
       "    .dataframe tbody tr th {\n",
       "        vertical-align: top;\n",
       "    }\n",
       "\n",
       "    .dataframe thead th {\n",
       "        text-align: right;\n",
       "    }\n",
       "</style>\n",
       "<table border=\"1\" class=\"dataframe\">\n",
       "  <thead>\n",
       "    <tr style=\"text-align: right;\">\n",
       "      <th></th>\n",
       "      <th>brand</th>\n",
       "      <th>score</th>\n",
       "    </tr>\n",
       "  </thead>\n",
       "  <tbody>\n",
       "    <tr>\n",
       "      <th>0</th>\n",
       "      <td>ferrari</td>\n",
       "      <td>1,570</td>\n",
       "    </tr>\n",
       "    <tr>\n",
       "      <th>1</th>\n",
       "      <td>bmw</td>\n",
       "      <td>1,365</td>\n",
       "    </tr>\n",
       "    <tr>\n",
       "      <th>2</th>\n",
       "      <td>mercedes-benz</td>\n",
       "      <td>1,295</td>\n",
       "    </tr>\n",
       "    <tr>\n",
       "      <th>3</th>\n",
       "      <td>audi</td>\n",
       "      <td>1,260</td>\n",
       "    </tr>\n",
       "    <tr>\n",
       "      <th>4</th>\n",
       "      <td>lamborghini</td>\n",
       "      <td>1,190</td>\n",
       "    </tr>\n",
       "  </tbody>\n",
       "</table>\n",
       "</div>"
      ],
      "text/plain": [
       "           brand  score\n",
       "0        ferrari  1,570\n",
       "1            bmw  1,365\n",
       "2  mercedes-benz  1,295\n",
       "3           audi  1,260\n",
       "4    lamborghini  1,190"
      ]
     },
     "execution_count": 79,
     "metadata": {},
     "output_type": "execute_result"
    }
   ],
   "source": [
    "brands_rank.head()"
   ]
  },
  {
   "cell_type": "code",
   "execution_count": 80,
   "metadata": {},
   "outputs": [
    {
     "data": {
      "text/html": [
       "<div>\n",
       "<style scoped>\n",
       "    .dataframe tbody tr th:only-of-type {\n",
       "        vertical-align: middle;\n",
       "    }\n",
       "\n",
       "    .dataframe tbody tr th {\n",
       "        vertical-align: top;\n",
       "    }\n",
       "\n",
       "    .dataframe thead th {\n",
       "        text-align: right;\n",
       "    }\n",
       "</style>\n",
       "<table border=\"1\" class=\"dataframe\">\n",
       "  <thead>\n",
       "    <tr style=\"text-align: right;\">\n",
       "      <th></th>\n",
       "      <th>brand</th>\n",
       "      <th>score</th>\n",
       "    </tr>\n",
       "  </thead>\n",
       "  <tbody>\n",
       "    <tr>\n",
       "      <th>49</th>\n",
       "      <td>vauxhall</td>\n",
       "      <td>95</td>\n",
       "    </tr>\n",
       "    <tr>\n",
       "      <th>50</th>\n",
       "      <td>loncin</td>\n",
       "      <td>55</td>\n",
       "    </tr>\n",
       "    <tr>\n",
       "      <th>51</th>\n",
       "      <td>austin rover</td>\n",
       "      <td>50</td>\n",
       "    </tr>\n",
       "    <tr>\n",
       "      <th>52</th>\n",
       "      <td>malaguti</td>\n",
       "      <td>20</td>\n",
       "    </tr>\n",
       "    <tr>\n",
       "      <th>53</th>\n",
       "      <td>lada</td>\n",
       "      <td>15</td>\n",
       "    </tr>\n",
       "  </tbody>\n",
       "</table>\n",
       "</div>"
      ],
      "text/plain": [
       "           brand score\n",
       "49      vauxhall    95\n",
       "50        loncin    55\n",
       "51  austin rover    50\n",
       "52      malaguti    20\n",
       "53          lada    15"
      ]
     },
     "execution_count": 80,
     "metadata": {},
     "output_type": "execute_result"
    }
   ],
   "source": [
    "brands_rank.tail()"
   ]
  },
  {
   "cell_type": "code",
   "execution_count": 81,
   "metadata": {},
   "outputs": [],
   "source": [
    "brands_rank.rename(columns={'brand': 'Brand', 'score': 'Score'}, inplace=True)"
   ]
  },
  {
   "cell_type": "code",
   "execution_count": 82,
   "metadata": {},
   "outputs": [
    {
     "data": {
      "text/plain": [
       "71"
      ]
     },
     "execution_count": 82,
     "metadata": {},
     "output_type": "execute_result"
    }
   ],
   "source": [
    "len(cars_with_coords_df[\"Brand\"].unique())"
   ]
  },
  {
   "cell_type": "code",
   "execution_count": 83,
   "metadata": {},
   "outputs": [
    {
     "data": {
      "text/plain": [
       "54"
      ]
     },
     "execution_count": 83,
     "metadata": {},
     "output_type": "execute_result"
    }
   ],
   "source": [
    "len(brands_rank)"
   ]
  },
  {
   "cell_type": "code",
   "execution_count": 84,
   "metadata": {},
   "outputs": [],
   "source": [
    "brands_rank[\"Brand\"] = brands_rank[\"Brand\"].apply(lambda b: b.capitalize())"
   ]
  },
  {
   "cell_type": "code",
   "execution_count": 85,
   "metadata": {},
   "outputs": [
    {
     "data": {
      "text/html": [
       "<div>\n",
       "<style scoped>\n",
       "    .dataframe tbody tr th:only-of-type {\n",
       "        vertical-align: middle;\n",
       "    }\n",
       "\n",
       "    .dataframe tbody tr th {\n",
       "        vertical-align: top;\n",
       "    }\n",
       "\n",
       "    .dataframe thead th {\n",
       "        text-align: right;\n",
       "    }\n",
       "</style>\n",
       "<table border=\"1\" class=\"dataframe\">\n",
       "  <thead>\n",
       "    <tr style=\"text-align: right;\">\n",
       "      <th></th>\n",
       "      <th>Brand</th>\n",
       "      <th>Score</th>\n",
       "    </tr>\n",
       "  </thead>\n",
       "  <tbody>\n",
       "    <tr>\n",
       "      <th>0</th>\n",
       "      <td>Ferrari</td>\n",
       "      <td>1,570</td>\n",
       "    </tr>\n",
       "    <tr>\n",
       "      <th>1</th>\n",
       "      <td>Bmw</td>\n",
       "      <td>1,365</td>\n",
       "    </tr>\n",
       "    <tr>\n",
       "      <th>2</th>\n",
       "      <td>Mercedes-benz</td>\n",
       "      <td>1,295</td>\n",
       "    </tr>\n",
       "    <tr>\n",
       "      <th>3</th>\n",
       "      <td>Audi</td>\n",
       "      <td>1,260</td>\n",
       "    </tr>\n",
       "    <tr>\n",
       "      <th>4</th>\n",
       "      <td>Lamborghini</td>\n",
       "      <td>1,190</td>\n",
       "    </tr>\n",
       "  </tbody>\n",
       "</table>\n",
       "</div>"
      ],
      "text/plain": [
       "           Brand  Score\n",
       "0        Ferrari  1,570\n",
       "1            Bmw  1,365\n",
       "2  Mercedes-benz  1,295\n",
       "3           Audi  1,260\n",
       "4    Lamborghini  1,190"
      ]
     },
     "execution_count": 85,
     "metadata": {},
     "output_type": "execute_result"
    }
   ],
   "source": [
    "brands_rank.head()"
   ]
  },
  {
   "cell_type": "code",
   "execution_count": 86,
   "metadata": {},
   "outputs": [],
   "source": [
    "cars_with_coords_df = pd.merge(cars_with_coords_df, brands_rank, on=\"Brand\", how=\"left\")"
   ]
  },
  {
   "cell_type": "code",
   "execution_count": 87,
   "metadata": {},
   "outputs": [
    {
     "data": {
      "text/html": [
       "<div>\n",
       "<style scoped>\n",
       "    .dataframe tbody tr th:only-of-type {\n",
       "        vertical-align: middle;\n",
       "    }\n",
       "\n",
       "    .dataframe tbody tr th {\n",
       "        vertical-align: top;\n",
       "    }\n",
       "\n",
       "    .dataframe thead th {\n",
       "        text-align: right;\n",
       "    }\n",
       "</style>\n",
       "<table border=\"1\" class=\"dataframe\">\n",
       "  <thead>\n",
       "    <tr style=\"text-align: right;\">\n",
       "      <th></th>\n",
       "      <th>Title</th>\n",
       "      <th>Brand</th>\n",
       "      <th>City</th>\n",
       "      <th>Year</th>\n",
       "      <th>Kms</th>\n",
       "      <th>Fuel</th>\n",
       "      <th>Seller</th>\n",
       "      <th>Guarantee</th>\n",
       "      <th>Doors</th>\n",
       "      <th>Vacancies</th>\n",
       "      <th>...</th>\n",
       "      <th>Urban Use (l)</th>\n",
       "      <th>Extraurban Use (l)</th>\n",
       "      <th>Aceleration 0-100 (s)</th>\n",
       "      <th>CO2 Emissions (gr/m3)</th>\n",
       "      <th>Output (cv)</th>\n",
       "      <th>Cubic Capacity (cm3)</th>\n",
       "      <th>Max Par (Nm)</th>\n",
       "      <th>Latitude</th>\n",
       "      <th>Longitude</th>\n",
       "      <th>Score</th>\n",
       "    </tr>\n",
       "  </thead>\n",
       "  <tbody>\n",
       "    <tr>\n",
       "      <th>0</th>\n",
       "      <td>Citroen Jumper 2.2hdi Cl 33 L2h2 150</td>\n",
       "      <td>Citroen</td>\n",
       "      <td>Barcelona</td>\n",
       "      <td>2014</td>\n",
       "      <td>105000</td>\n",
       "      <td>Diesel</td>\n",
       "      <td>Profesional</td>\n",
       "      <td>Sí</td>\n",
       "      <td>4</td>\n",
       "      <td>9</td>\n",
       "      <td>...</td>\n",
       "      <td>8.8</td>\n",
       "      <td>6.3</td>\n",
       "      <td>0.0</td>\n",
       "      <td>199</td>\n",
       "      <td>150</td>\n",
       "      <td>2198</td>\n",
       "      <td>350</td>\n",
       "      <td>41.382894</td>\n",
       "      <td>2.177432</td>\n",
       "      <td>NaN</td>\n",
       "    </tr>\n",
       "    <tr>\n",
       "      <th>1</th>\n",
       "      <td>Nissan Juke 1.5dci Acenta 4x2</td>\n",
       "      <td>Nissan</td>\n",
       "      <td>Barcelona</td>\n",
       "      <td>2017</td>\n",
       "      <td>13059</td>\n",
       "      <td>Diesel</td>\n",
       "      <td>Profesional</td>\n",
       "      <td>Sí</td>\n",
       "      <td>5</td>\n",
       "      <td>5</td>\n",
       "      <td>...</td>\n",
       "      <td>4.6</td>\n",
       "      <td>3.7</td>\n",
       "      <td>11.2</td>\n",
       "      <td>104</td>\n",
       "      <td>110</td>\n",
       "      <td>1461</td>\n",
       "      <td>260</td>\n",
       "      <td>41.382894</td>\n",
       "      <td>2.177432</td>\n",
       "      <td>300</td>\n",
       "    </tr>\n",
       "    <tr>\n",
       "      <th>2</th>\n",
       "      <td>Citroen C4 Cactus 1.6 Bluehdi S&amp;s Feel 100</td>\n",
       "      <td>Citroen</td>\n",
       "      <td>Barcelona</td>\n",
       "      <td>2015</td>\n",
       "      <td>13700</td>\n",
       "      <td>Diesel</td>\n",
       "      <td>Profesional</td>\n",
       "      <td>Sí</td>\n",
       "      <td>5</td>\n",
       "      <td>5</td>\n",
       "      <td>...</td>\n",
       "      <td>3.8</td>\n",
       "      <td>3.2</td>\n",
       "      <td>10.7</td>\n",
       "      <td>90</td>\n",
       "      <td>100</td>\n",
       "      <td>1560</td>\n",
       "      <td>254</td>\n",
       "      <td>41.382894</td>\n",
       "      <td>2.177432</td>\n",
       "      <td>NaN</td>\n",
       "    </tr>\n",
       "    <tr>\n",
       "      <th>3</th>\n",
       "      <td>Opel Vivaro Viv. Com6 2.0cdti 29 L2 Semi Acris...</td>\n",
       "      <td>Opel</td>\n",
       "      <td>Barcelona</td>\n",
       "      <td>2014</td>\n",
       "      <td>128000</td>\n",
       "      <td>Diesel</td>\n",
       "      <td>Profesional</td>\n",
       "      <td>Sí</td>\n",
       "      <td>4</td>\n",
       "      <td>6</td>\n",
       "      <td>...</td>\n",
       "      <td>9.8</td>\n",
       "      <td>7.0</td>\n",
       "      <td>0.0</td>\n",
       "      <td>202</td>\n",
       "      <td>114</td>\n",
       "      <td>1995</td>\n",
       "      <td>290</td>\n",
       "      <td>41.382894</td>\n",
       "      <td>2.177432</td>\n",
       "      <td>400</td>\n",
       "    </tr>\n",
       "    <tr>\n",
       "      <th>4</th>\n",
       "      <td>Peugeot Expert Combi 6 Mixto 2.0hdi</td>\n",
       "      <td>Peugeot</td>\n",
       "      <td>Barcelona</td>\n",
       "      <td>2006</td>\n",
       "      <td>215000</td>\n",
       "      <td>Diesel</td>\n",
       "      <td>Profesional</td>\n",
       "      <td>Sí</td>\n",
       "      <td>4</td>\n",
       "      <td>6</td>\n",
       "      <td>...</td>\n",
       "      <td>8.3</td>\n",
       "      <td>5.7</td>\n",
       "      <td>0.0</td>\n",
       "      <td>0</td>\n",
       "      <td>95</td>\n",
       "      <td>1997</td>\n",
       "      <td>215</td>\n",
       "      <td>41.382894</td>\n",
       "      <td>2.177432</td>\n",
       "      <td>430</td>\n",
       "    </tr>\n",
       "  </tbody>\n",
       "</table>\n",
       "<p>5 rows × 36 columns</p>\n",
       "</div>"
      ],
      "text/plain": [
       "                                               Title    Brand        City  \\\n",
       "0               Citroen Jumper 2.2hdi Cl 33 L2h2 150  Citroen  Barcelona    \n",
       "1                      Nissan Juke 1.5dci Acenta 4x2   Nissan  Barcelona    \n",
       "2         Citroen C4 Cactus 1.6 Bluehdi S&s Feel 100  Citroen  Barcelona    \n",
       "3  Opel Vivaro Viv. Com6 2.0cdti 29 L2 Semi Acris...     Opel  Barcelona    \n",
       "4                Peugeot Expert Combi 6 Mixto 2.0hdi  Peugeot  Barcelona    \n",
       "\n",
       "   Year     Kms    Fuel       Seller Guarantee  Doors  Vacancies  ...    \\\n",
       "0  2014  105000  Diesel  Profesional        Sí      4          9  ...     \n",
       "1  2017   13059  Diesel  Profesional        Sí      5          5  ...     \n",
       "2  2015   13700  Diesel  Profesional        Sí      5          5  ...     \n",
       "3  2014  128000  Diesel  Profesional        Sí      4          6  ...     \n",
       "4  2006  215000  Diesel  Profesional        Sí      4          6  ...     \n",
       "\n",
       "  Urban Use (l) Extraurban Use (l)  Aceleration 0-100 (s)  \\\n",
       "0           8.8                6.3                    0.0   \n",
       "1           4.6                3.7                   11.2   \n",
       "2           3.8                3.2                   10.7   \n",
       "3           9.8                7.0                    0.0   \n",
       "4           8.3                5.7                    0.0   \n",
       "\n",
       "  CO2 Emissions (gr/m3) Output (cv) Cubic Capacity (cm3)  Max Par (Nm)  \\\n",
       "0                   199         150                 2198           350   \n",
       "1                   104         110                 1461           260   \n",
       "2                    90         100                 1560           254   \n",
       "3                   202         114                 1995           290   \n",
       "4                     0          95                 1997           215   \n",
       "\n",
       "    Latitude  Longitude  Score  \n",
       "0  41.382894   2.177432    NaN  \n",
       "1  41.382894   2.177432    300  \n",
       "2  41.382894   2.177432    NaN  \n",
       "3  41.382894   2.177432    400  \n",
       "4  41.382894   2.177432    430  \n",
       "\n",
       "[5 rows x 36 columns]"
      ]
     },
     "execution_count": 87,
     "metadata": {},
     "output_type": "execute_result"
    }
   ],
   "source": [
    "cars_with_coords_df.head()"
   ]
  },
  {
   "cell_type": "code",
   "execution_count": 88,
   "metadata": {},
   "outputs": [],
   "source": [
    "cars_with_coords_df.rename(columns={'Score': 'Brand Score'}, inplace=True)"
   ]
  },
  {
   "cell_type": "code",
   "execution_count": 89,
   "metadata": {},
   "outputs": [
    {
     "data": {
      "text/plain": [
       "Index(['Title', 'Brand', 'City', 'Year', 'Kms', 'Fuel', 'Seller', 'Guarantee',\n",
       "       'Doors', 'Vacancies', 'Car Body', 'Cylinders', 'Gears', 'Transmission',\n",
       "       'Traction', 'Url', 'Price (€)', 'Boot Capacity (l)', 'Length (cm)',\n",
       "       'Height (cm)', 'Width (cm)', 'Tank (l)', 'Weight (kg)',\n",
       "       'Max Weight (kg)', 'Max Speed (km/h)', 'Comb Fuel (l)', 'Urban Use (l)',\n",
       "       'Extraurban Use (l)', 'Aceleration 0-100 (s)', 'CO2 Emissions (gr/m3)',\n",
       "       'Output (cv)', 'Cubic Capacity (cm3)', 'Max Par (Nm)', 'Latitude',\n",
       "       'Longitude', 'Brand Score'],\n",
       "      dtype='object')"
      ]
     },
     "execution_count": 89,
     "metadata": {},
     "output_type": "execute_result"
    }
   ],
   "source": [
    "cars_with_coords_df.columns"
   ]
  },
  {
   "cell_type": "markdown",
   "metadata": {},
   "source": [
    "Now, where appears a NaN value we put a zero."
   ]
  },
  {
   "cell_type": "code",
   "execution_count": 96,
   "metadata": {},
   "outputs": [],
   "source": [
    "new_column = []\n",
    "\n",
    "for val in cars_with_coords_df[\"Brand Score\"]:\n",
    "    if type(val) == float:\n",
    "        new_column.append(0)\n",
    "    else:\n",
    "        new_column.append(pd.to_numeric(val.replace(\",\",\"\")))\n",
    "\n",
    "cars_with_coords_df[\"Brand Score\"] = new_column"
   ]
  },
  {
   "cell_type": "code",
   "execution_count": 97,
   "metadata": {},
   "outputs": [
    {
     "data": {
      "text/plain": [
       "0           0\n",
       "1         300\n",
       "2           0\n",
       "3         400\n",
       "4         430\n",
       "5         400\n",
       "6         300\n",
       "7         400\n",
       "8         400\n",
       "9         565\n",
       "10        400\n",
       "11        330\n",
       "12          0\n",
       "13        630\n",
       "14          0\n",
       "15        565\n",
       "16          0\n",
       "17        430\n",
       "18        345\n",
       "19        630\n",
       "20       1365\n",
       "21          0\n",
       "22        300\n",
       "23        430\n",
       "24       1365\n",
       "25       1165\n",
       "26       1365\n",
       "27        300\n",
       "28        430\n",
       "29          0\n",
       "         ... \n",
       "82931       0\n",
       "82932       0\n",
       "82933       0\n",
       "82934       0\n",
       "82935    1000\n",
       "82936    1260\n",
       "82937     220\n",
       "82938     145\n",
       "82939       0\n",
       "82940     220\n",
       "82941     890\n",
       "82942       0\n",
       "82943     295\n",
       "82944    1260\n",
       "82945    1365\n",
       "82946    1365\n",
       "82947     890\n",
       "82948     840\n",
       "82949     565\n",
       "82950     430\n",
       "82951     840\n",
       "82952    1260\n",
       "82953       0\n",
       "82954     300\n",
       "82955       0\n",
       "82956     890\n",
       "82957    1000\n",
       "82958     565\n",
       "82959     890\n",
       "82960       0\n",
       "Name: Brand Score, Length: 82961, dtype: int64"
      ]
     },
     "execution_count": 97,
     "metadata": {},
     "output_type": "execute_result"
    }
   ],
   "source": [
    "cars_with_coords_df[\"Brand Score\"]"
   ]
  },
  {
   "cell_type": "code",
   "execution_count": 100,
   "metadata": {},
   "outputs": [
    {
     "data": {
      "text/plain": [
       "array(['Combi', 'Todo Terreno', 'Berlina', 'Furgon', 'Stationwagon',\n",
       "       'Convertible', 'Coupe', 'Chasis', 'Monovolumen', 'Roadster',\n",
       "       'Pick-Up Doble Cabina', 'Chasis Doble Cabina', 'Pick-Up', 'Targa',\n",
       "       'Bus'], dtype=object)"
      ]
     },
     "execution_count": 100,
     "metadata": {},
     "output_type": "execute_result"
    }
   ],
   "source": [
    "cars_with_coords_df[\"Car Body\"].unique()"
   ]
  },
  {
   "cell_type": "code",
   "execution_count": null,
   "metadata": {},
   "outputs": [],
   "source": []
  }
 ],
 "metadata": {
  "kernelspec": {
   "display_name": "Python 3",
   "language": "python",
   "name": "python3"
  },
  "language_info": {
   "codemirror_mode": {
    "name": "ipython",
    "version": 3
   },
   "file_extension": ".py",
   "mimetype": "text/x-python",
   "name": "python",
   "nbconvert_exporter": "python",
   "pygments_lexer": "ipython3",
   "version": "3.5.4"
  }
 },
 "nbformat": 4,
 "nbformat_minor": 2
}
